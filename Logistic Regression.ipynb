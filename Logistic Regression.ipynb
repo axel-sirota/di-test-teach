{
 "cells": [
  {
   "cell_type": "markdown",
   "id": "blocked-turkish",
   "metadata": {
    "slideshow": {
     "slide_type": "-"
    }
   },
   "source": [
    "# Logistic Regression"
   ]
  },
  {
   "cell_type": "markdown",
   "id": "brown-implementation",
   "metadata": {},
   "source": [
    "Today we are going to learn about Logistic Regression as our first example of Classification. Recall Classification is the branch of ML where we try to predict a **category** for a given input, instead of a real value. Let's get to an example!"
   ]
  },
  {
   "cell_type": "code",
   "execution_count": 51,
   "id": "alpha-update",
   "metadata": {
    "scrolled": false
   },
   "outputs": [],
   "source": [
    "# Normal setup and import cells with unimportant parts\n",
    "\n",
    "import numpy as np \n",
    "from sklearn import datasets\n",
    "from sklearn.linear_model import LinearRegression, LogisticRegression\n",
    "from scipy.special import expit\n",
    "import matplotlib\n",
    "import matplotlib.pyplot as plt \n",
    "import seaborn as sns\n",
    "from sklearn.model_selection import train_test_split\n",
    "from sklearn.metrics import accuracy_score, classification_report\n",
    "from sklearn.metrics import confusion_matrix\n",
    "from sklearn.model_selection import GridSearchCV\n",
    "from sklearn.svm import l1_min_c\n",
    "\n",
    "font = {'weight' : 'bold',\n",
    "        'size'   : 22}\n",
    "\n",
    "matplotlib.rc('font', **font)\n",
    "SPECIES_MAP = {'Setosa': 0, \"Versicolour\": 1, \"Virginica\": 2}\n"
   ]
  },
  {
   "cell_type": "code",
   "execution_count": 52,
   "id": "ready-corruption",
   "metadata": {
    "scrolled": false
   },
   "outputs": [],
   "source": [
    "# Helper methods to create our plots. This part is a lot of boilerplate code o =n using matplotlib that is not core to the lesson in question.\n",
    "\n",
    "def add_legend(color_map=SPECIES_MAP, cm=plt.cm.coolwarm, **kwargs):\n",
    "    markers = [plt.Line2D([0,0],[0,0],color=cm(color*100), marker='o', linestyle='') for color in color_map.values()]\n",
    "    plt.legend(markers, color_map.keys(), numpoints=1, **kwargs)\n",
    "\n",
    "    \n",
    "def plot_with_coloured_labels_2d(x_data, y_data):\n",
    "    plt.figure(1, figsize=(20, 15))\n",
    "    plt.scatter(x_data[:, 0], x_data[:, 1], c=plt.cm.coolwarm(y_data*100), s=300)\n",
    "    plt.xlabel('Sepal length')\n",
    "    plt.ylabel('Sepal width')\n",
    "    plt.title(\"Species in the Iris Dataset by sepal length and width\")\n",
    "    plt.plot([4.5], [3.0], marker='o', markersize=30, color=\"red\")\n",
    "    plt.text(4.6, 2.9, s=\"Which species do we assign?\", fontdict={\"size\": 15, \"color\": \"red\"})\n",
    "    add_legend()\n",
    "    plt.show()\n",
    "\n",
    "def plot_with_coloured_labels_1d(x_data, y_data, threshold=False, color_map=SPECIES_MAP):\n",
    "    only_setosa = np.vectorize(lambda x: 0 if x == 0 else 1)(y_data)\n",
    "    plt.figure(1, figsize=(10, 5))\n",
    "    plt.scatter(x_data[:, 0], y=only_setosa, c=plt.cm.coolwarm(only_setosa*100), s=300)\n",
    "    plt.xlabel('Sepal length')\n",
    "    plt.title(\"Species in the Iris Dataset by sepal length\")\n",
    "    plt.yticks([0,1,2])\n",
    "    markers = [plt.Line2D([0,0],[0,0],color=plt.cm.coolwarm(color*100), marker='o', linestyle='') for color in color_map.values() if color != 2]\n",
    "    plt.legend(markers, ['Setosa', 'Not Setosa'], numpoints=1)\n",
    "    plt.plot(4.5, 0, marker='o', markersize=30, color=\"red\")\n",
    "    if threshold:\n",
    "        plt.plot([threshold_linear_reg, threshold_linear_reg], [0,2], color=\"violet\")\n",
    "    plt.show()\n",
    "\n",
    "def plot_with_coloured_labels_1d_and_reg(x_data, y_data, regression_model, threshold=False, color_map=SPECIES_MAP):\n",
    "    only_setosa = np.vectorize(lambda x: 0 if x == 0 else 1)(y_data)\n",
    "    plt.figure(1, figsize=(10, 10))\n",
    "    plt.scatter(x_data[:, 0], y=only_setosa, c=plt.cm.coolwarm(only_setosa*100), s=300)\n",
    "    plt.xlabel('Sepal length')\n",
    "    plt.title(\"Species in the Iris Dataset by sepal length\")\n",
    "    markers = [plt.Line2D([0,0],[0,0],color=plt.cm.coolwarm(color*100), marker='o', linestyle='') for color in color_map.values() if color != 2]\n",
    "    plt.legend(markers, ['Setosa', 'Not Setosa'], numpoints=1)\n",
    "    plt.plot(4.5, 0, marker='o', markersize=30, color=\"red\")\n",
    "    y_reg_pred = regression_model.predict(x_data[:, 0].reshape(-1, 1))\n",
    "    data = np.column_stack([x_data[:, 0], y_reg_pred])\n",
    "    plt.plot(data[:, 0], data[:, 1], color=\"yellow\", label=\"Regression Line\")\n",
    "    if threshold:\n",
    "        plt.plot([threshold_linear_reg, threshold_linear_reg], [0,2], color=\"violet\")\n",
    "    plt.show()\n",
    "\n",
    "def plot_cost_function_deduction(x_data, y_data, color_map=SPECIES_MAP):\n",
    "    only_setosa = np.vectorize(lambda x: 0 if x == 0 else 1)(y_data)\n",
    "    plt.figure(1, figsize=(20, 10))\n",
    "    plt.scatter(x_data[:, 0], y=only_setosa, c=plt.cm.coolwarm(only_setosa*100), s=300)\n",
    "    plt.xlabel('Sepal length')\n",
    "    plt.title(\"Species in the Iris Dataset by sepal length\")\n",
    "    plt.yticks([0,1,2])\n",
    "    markers = [plt.Line2D([0,0],[0,0],color=plt.cm.coolwarm(color*100), marker='o', linestyle='') for color in color_map.values() if color != 2]\n",
    "    plt.legend(markers, ['Setosa', 'Not Setosa'], numpoints=1, loc=4)\n",
    "    plt.arrow(x=7, y=1, dx=0, dy=-0.1, length_includes_head=True, head_width=0.05, head_length=0.03)\n",
    "    plt.text(6, 0.82, s=\"This value should be penalized heavily\\n if predicted Setosa (y=0)\")\n",
    "    plt.arrow(x=4.2, y=0, dx=0, dy=0.1, length_includes_head=True, head_width=0.05, head_length=0.03)\n",
    "    plt.text(4.2, 0.11, s=\"This value should not be penalized\\n if predicted  Setosa (y=0)\")\n",
    "    plt.show()\n",
    "\n",
    "def plot_setosa_cost():\n",
    "    x = np.linspace(4,7.99)\n",
    "    y = -np.log((8-x)/4)\n",
    "    plt.plot(x,y)\n",
    "    plt.title(\"Cost function to predict Setosa correctly\")\n",
    "    plt.show()\n",
    "\n",
    "def plot_not_setosa_cost():\n",
    "    x = np.linspace(4.01,8)\n",
    "    y = -np.log((x-4)/4)\n",
    "    plt.plot(x,y)\n",
    "    plt.title(\"Cost function to predict Not Setosa correctly\")\n",
    "    plt.show()\n",
    "\n",
    "def plot_cost_function():\n",
    "    x = np.linspace(4.01,7.99)\n",
    "    y_0 = -np.log((8-x)/4)\n",
    "    y_1 = -np.log((x-4)/4)\n",
    "    plt.figure(1, figsize=(20, 10))\n",
    "    plt.plot(x,y_0, label=\"Cost function if model predicts Setosa (y=0)\")\n",
    "    plt.plot(x, y_1, label=\"Cost function if model predicts Not Setosa (y=1)\")\n",
    "    plt.title(\"Cost function for classification\")\n",
    "    plt.legend(prop={'size': 14})\n",
    "    plt.show()\n",
    "\n",
    "def plot_logistic():\n",
    "    x = np.linspace(-5, 5)\n",
    "    y = expit(x)\n",
    "    plt.plot(x, y)\n",
    "    plt.plot([0, 0], [0,0.5], color=\"violet\", linestyle='dashed')\n",
    "    plt.plot([-5, 0], [0.5,0.5], color=\"violet\", linestyle='dashed')\n",
    "    plt.title(\"Logistic Function\")\n",
    "    plt.show()\n",
    "\n",
    "def plot_model(x_data, logistic_reg_model):\n",
    "    plt.figure(1, figsize=(20, 15))\n",
    "    y_data = logistic_reg_model.predict(x_data)\n",
    "    plt.scatter(x_data[:, 0], x_data[:, 1], c=plt.cm.coolwarm(y_data*100), s=300)\n",
    "    plt.xlabel('Sepal length')\n",
    "    plt.ylabel('Sepal width')\n",
    "    plt.title(\"Classification of Iris Dataset by sepal length and width\")\n",
    "    add_legend()\n",
    "    plt.show()\n",
    "\n",
    "def plot_accuracies(inverse_proportion_outliers, accuracies, regularized_accuracies):\n",
    "    plt.figure(1, (10,10))\n",
    "    plt.plot(100/inverse_proportion_outliers, accuracies, label=\"Non-regularized model\", color=\"b\")\n",
    "    plt.plot(100/inverse_proportion_outliers, regularized_accuracies, label=\"Regularized model\", color=\"r\")\n",
    "    plt.xlabel(\"Proportion of Outliers\")\n",
    "    plt.ylabel(\"Accuracy\")\n",
    "    plt.legend()\n",
    "    plt.title(\"Evolution of accuracy with % of outliers\")\n",
    "    plt.show()\n",
    "\n",
    "def plot_gridsearch_cv(param_grid, results, scoring, adjustable_param=\"C\"):\n",
    "    plt.figure(figsize=(20, 15))\n",
    "    plt.title(\"GridSearchCV evaluating using multiple scorers simultaneously\",fontsize=16)\n",
    "    plt.xlabel(f\"Inverse of regularization strength: {adjustable_param}\")\n",
    "    plt.ylabel(\"Score\")\n",
    "    plt.grid()\n",
    "    ax = plt.axes()\n",
    "    ax.set_xlim(0, param_grid[adjustable_param].max())\n",
    "    ax.set_ylim(0.0, 1)\n",
    "\n",
    "    # Get the regular numpy array from the MaskedArray\n",
    "    X_axis = np.array(results[f'param_{adjustable_param}'].data, dtype=float)\n",
    "\n",
    "    for scorer, color in zip(list(scoring.keys()), ['g', 'k', 'b']): \n",
    "        for sample, style in (('train', '--'), ('test', '-')):\n",
    "            sample_score_mean = -results['mean_%s_%s' % (sample, scorer)] if scoring[scorer]=='neg_log_loss' else results['mean_%s_%s' % (sample, scorer)]\n",
    "            sample_score_std = results['std_%s_%s' % (sample, scorer)]\n",
    "            ax.fill_between(X_axis, sample_score_mean - sample_score_std,\n",
    "                            sample_score_mean + sample_score_std,\n",
    "                            alpha=0.1 if sample == 'test' else 0, color=color)\n",
    "            ax.plot(X_axis, sample_score_mean, style, color=color,\n",
    "                    alpha=1 if sample == 'test' else 0.7,\n",
    "                    label=\"%s (%s)\" % (scorer, sample))\n",
    "\n",
    "        best_index = np.nonzero(results['rank_test_%s' % scorer] == 1)[0][0]\n",
    "        best_score = -results['mean_test_%s' % scorer][best_index] if scoring[scorer]=='neg_log_loss' else results['mean_test_%s' % scorer][best_index]\n",
    "\n",
    "        # Plot a dotted vertical line at the best score for that scorer marked by x\n",
    "        ax.plot([X_axis[best_index], ] * 2, [0, best_score],\n",
    "                linestyle='-.', color=color, marker='x', markeredgewidth=3, ms=8)\n",
    "\n",
    "        # Annotate the best score for that scorer\n",
    "        ax.annotate(\"%0.2f\" % best_score,\n",
    "                    (X_axis[best_index], best_score + 0.005))\n",
    "\n",
    "    plt.legend(loc=\"best\")\n",
    "    plt.grid('off')\n",
    "    plt.show()\n",
    "\n",
    "def get_heatmap(matrix, labels):\n",
    "    plt.figure(1, (10,10))\n",
    "    sns.heatmap(matrix, annot=True, cmap=\"RdYlGn\", xticklabels=labels, yticklabels=labels)\n",
    "    plt.title(\"Normalized confusion matrix of each classes predictions\", fontdict={\"size\":16})\n",
    "    plt.show()"
   ]
  },
  {
   "cell_type": "markdown",
   "id": "psychological-average",
   "metadata": {},
   "source": [
    "The problem becomes, given the following dataset of flowers (a famous dataset called *Iris* dataset), if we spot a new Iris flower in the red dot, which species should we assign? it would be clever to have a model that outputs Setosa, since that is the species of the sorrounding flowers."
   ]
  },
  {
   "cell_type": "code",
   "execution_count": 53,
   "id": "russian-baking",
   "metadata": {
    "scrolled": false
   },
   "outputs": [
    {
     "data": {
      "image/png": "[encoded data removed]",
      "text/plain": [
       "<Figure size 1440x1080 with 1 Axes>"
      ]
     },
     "metadata": {
      "needs_background": "light"
     },
     "output_type": "display_data"
    }
   ],
   "source": [
    "iris = datasets.load_iris()\n",
    "X = iris.data[:, :2]  # we only take the first two features - sepal length and sepal width.\n",
    "Y = iris.target\n",
    "plot_with_coloured_labels_2d(X,Y)"
   ]
  },
  {
   "cell_type": "markdown",
   "id": "elder-publicity",
   "metadata": {},
   "source": [
    "### How would **you** think of a solution to this problem?"
   ]
  },
  {
   "cell_type": "markdown",
   "id": "sapphire-placement",
   "metadata": {},
   "source": [
    "## Simplify the problem"
   ]
  },
  {
   "cell_type": "markdown",
   "id": "unlimited-angel",
   "metadata": {},
   "source": [
    "Now the problem is stated, let's think of a solution to a simplified problem. Let's only use the Sepal length for now and let's predict only one class [Setosa]!"
   ]
  },
  {
   "cell_type": "code",
   "execution_count": 54,
   "id": "prospective-inside",
   "metadata": {
    "scrolled": false
   },
   "outputs": [
    {
     "data": {
      "image/png": "[encoded data removed]",
      "text/plain": [
       "<Figure size 720x360 with 1 Axes>"
      ]
     },
     "metadata": {
      "needs_background": "light"
     },
     "output_type": "display_data"
    }
   ],
   "source": [
    "plot_with_coloured_labels_1d(X,Y)"
   ]
  },
  {
   "cell_type": "markdown",
   "id": "fiscal-score",
   "metadata": {},
   "source": [
    "We need some value of Sepal Length such that any value below it would be Setosa and it woudl be not if it's greater. One way to do it using what we know, is Linear Regression: If it returns a value greater than, say 0.5, then it is not Setosa, let's try it!"
   ]
  },
  {
   "cell_type": "code",
   "execution_count": 73,
   "id": "imperial-victorian",
   "metadata": {
    "scrolled": false
   },
   "outputs": [],
   "source": [
    "# Exercise 1: Build a Linear Regression model to fit the first feature of the dataset X (Sepal Length)\n",
    "\n",
    "reg = None # Change None with fitted model (1/2 lines)\n",
    "\n",
    "# Solution 1 : \n",
    "#reg = LinearRegression().fit(X[:, 0].reshape(-1, 1), np.vectorize(lambda x: 0 if x == 0 else 1)(Y))\n",
    "\n",
    "if reg is not None:\n",
    "    plot_with_coloured_labels_1d_and_reg(X, Y, regression_model=reg)\n"
   ]
  },
  {
   "cell_type": "markdown",
   "id": "wired-mother",
   "metadata": {},
   "source": [
    "To find such threshold value, we only need to solve the equation:  \\\\begin{equation*} A*X + b = 0.5 \\end{equation*}."
   ]
  },
  {
   "cell_type": "code",
   "execution_count": 74,
   "id": "pleased-contamination",
   "metadata": {
    "scrolled": false
   },
   "outputs": [],
   "source": [
    "if reg is not None:\n",
    "    # Get parameters of Model\n",
    "    slope = reg.coef_\n",
    "    intercept = reg.intercept_\n",
    "\n",
    "    # Solve X such that AX + b = 0.5\n",
    "    threshold_linear_reg = np.roots([slope, intercept - 0.5])[0]\n",
    "    print(f\"The threshold by linear regression would be {threshold_linear_reg}\")\n",
    "    plot_with_coloured_labels_1d_and_reg(X,Y, regression_model=reg, threshold=threshold_linear_reg)"
   ]
  },
  {
   "cell_type": "markdown",
   "id": "suspected-trade",
   "metadata": {},
   "source": [
    "It would look like this alternative has some sense into it, however, **what problems do you think we could have?**"
   ]
  },
  {
   "cell_type": "markdown",
   "id": "domestic-builder",
   "metadata": {},
   "source": [
    "## Another approach"
   ]
  },
  {
   "cell_type": "markdown",
   "id": "intense-edition",
   "metadata": {},
   "source": [
    "One issue we have is , by how Linear Regression works, the model will try to reduce the distance between the two extreme points and the line. Therefore, we are not trying to make the maximum number of correct classifications within the training set! What if we try to maximize that measure instead? How would that cost function look like?"
   ]
  },
  {
   "cell_type": "code",
   "execution_count": 57,
   "id": "chemical-massachusetts",
   "metadata": {
    "scrolled": false
   },
   "outputs": [
    {
     "data": {
      "image/png": "[encoded data removed]",
      "text/plain": [
       "<Figure size 1440x720 with 1 Axes>"
      ]
     },
     "metadata": {
      "needs_background": "light"
     },
     "output_type": "display_data"
    }
   ],
   "source": [
    "plot_cost_function_deduction(X,Y)"
   ]
  },
  {
   "cell_type": "markdown",
   "id": "satellite-spider",
   "metadata": {},
   "source": [
    "So, making a cost function that predicts Setosa correctly should be of the following form:"
   ]
  },
  {
   "cell_type": "code",
   "execution_count": 58,
   "id": "subsequent-spring",
   "metadata": {
    "scrolled": false
   },
   "outputs": [
    {
     "data": {
      "image/png": "[encoded data removed]",
      "text/plain": [
       "<Figure size 432x288 with 1 Axes>"
      ]
     },
     "metadata": {
      "needs_background": "light"
     },
     "output_type": "display_data"
    }
   ],
   "source": [
    "plot_setosa_cost()"
   ]
  },
  {
   "cell_type": "markdown",
   "id": "advisory-complaint",
   "metadata": {},
   "source": [
    "This is because values with short sepal length would get small cost, while high sepal values would imply a high cost.\n",
    "\n",
    "As we have seen previously from Linear Regression, this makes the optimizer choose a model that opts to assign high sepal length to other classes rather than *Setosa*. Now what we need is the other way around, to force a high value to avoid Setosa and be other one. It should have the following form:"
   ]
  },
  {
   "cell_type": "code",
   "execution_count": 59,
   "id": "assured-rating",
   "metadata": {
    "scrolled": false
   },
   "outputs": [
    {
     "data": {
      "image/png": "[encoded data removed]",
      "text/plain": [
       "<Figure size 432x288 with 1 Axes>"
      ]
     },
     "metadata": {
      "needs_background": "light"
     },
     "output_type": "display_data"
    }
   ],
   "source": [
    "plot_not_setosa_cost()"
   ]
  },
  {
   "cell_type": "markdown",
   "id": "looking-institute",
   "metadata": {},
   "source": [
    "This way, if we combine this two by adding them, we end up with a cost function that could optimise what we want!"
   ]
  },
  {
   "cell_type": "code",
   "execution_count": 60,
   "id": "sexual-trick",
   "metadata": {
    "scrolled": false
   },
   "outputs": [
    {
     "data": {
      "image/png": "[encoded data removed]",
      "text/plain": [
       "<Figure size 1440x720 with 1 Axes>"
      ]
     },
     "metadata": {
      "needs_background": "light"
     },
     "output_type": "display_data"
    }
   ],
   "source": [
    "plot_cost_function()"
   ]
  },
  {
   "cell_type": "markdown",
   "id": "hungry-emergency",
   "metadata": {},
   "source": [
    " This cost function is called **Log Loss / Cross entropy / Log Likelihood** and will be the cost function of our new classification model.\n",
    "\n",
    "\n",
    "Now we only need to think of the best model!"
   ]
  },
  {
   "cell_type": "markdown",
   "id": "postal-mongolia",
   "metadata": {},
   "source": [
    "## Finding the Model"
   ]
  },
  {
   "cell_type": "markdown",
   "id": "north-tsunami",
   "metadata": {},
   "source": [
    "Another issue Linear Regression had, was that it doesn't \"know\" of these classes, it only tries to predict a value to be a function of the features! It would be great to have a way of using the classes information and then, from that, output a **probability** of getting a class! How do you think we can do that?"
   ]
  },
  {
   "cell_type": "markdown",
   "id": "younger-google",
   "metadata": {},
   "source": [
    "From math there is a great trick to do this using a function called the **logistic function** that outputs values between 0 and 1"
   ]
  },
  {
   "cell_type": "code",
   "execution_count": 61,
   "id": "designing-efficiency",
   "metadata": {
    "scrolled": false
   },
   "outputs": [
    {
     "data": {
      "image/png": "[encoded data removed]",
      "text/plain": [
       "<Figure size 432x288 with 1 Axes>"
      ]
     },
     "metadata": {
      "needs_background": "light"
     },
     "output_type": "display_data"
    }
   ],
   "source": [
    "plot_logistic()"
   ]
  },
  {
   "cell_type": "markdown",
   "id": "behavioral-iraqi",
   "metadata": {},
   "source": [
    "The logistic regression is a model that composes the logistic function with the linear regression to output a **probability** of be of class y=1 to a given input *x*: \\\\begin{equation*} y = logistic(A*x + b) \\end{equation*}.\n",
    "\n",
    "Let's fit a logistic regression model."
   ]
  },
  {
   "cell_type": "code",
   "execution_count": 62,
   "id": "electrical-shannon",
   "metadata": {
    "scrolled": false
   },
   "outputs": [
    {
     "data": {
      "text/plain": [
       "LogisticRegression()"
      ]
     },
     "execution_count": 62,
     "metadata": {},
     "output_type": "execute_result"
    },
    {
     "name": "stdout",
     "output_type": "stream",
     "text": [
      "The class predicted for Sepal length [5 8] cm is ['Setosa', 'Not Setosa']\n"
     ]
    }
   ],
   "source": [
    "logreg = LogisticRegression()  # Just like Linear Regression, it is on the same linear_model package!\n",
    "only_setosas = np.vectorize(lambda x: 0 if x == 0 else 1)(Y) # We collapse values of Y 1 and 2 to 1 so we predict only 1 class\n",
    "logreg.fit(X[:,0].reshape(-1, 1), only_setosas)\n",
    "X_test = np.array([5, 8])\n",
    "y_pred = logreg.predict(X_test.reshape(-1, 1))\n",
    "predictions = [{0: \"Setosa\", 1: \"Not Setosa\"}.get(value) for value in y_pred]\n",
    "print(f\"The class predicted for Sepal length {X_test} cm is {predictions}\")"
   ]
  },
  {
   "cell_type": "markdown",
   "id": "first-massage",
   "metadata": {},
   "source": [
    "Excellent! Let's do a new exercise and create a Logistic Regression model to predict any of the three classes by Sepal length, let's then plot how the predictions work."
   ]
  },
  {
   "cell_type": "code",
   "execution_count": 63,
   "id": "israeli-aviation",
   "metadata": {
    "scrolled": false
   },
   "outputs": [
    {
     "data": {
      "text/plain": [
       "LogisticRegression()"
      ]
     },
     "execution_count": 63,
     "metadata": {},
     "output_type": "execute_result"
    },
    {
     "data": {
      "text/plain": [
       "<matplotlib.collections.PathCollection at 0x126116e50>"
      ]
     },
     "execution_count": 63,
     "metadata": {},
     "output_type": "execute_result"
    },
    {
     "data": {
      "image/png": "[encoded data removed]",
      "text/plain": [
       "<Figure size 432x288 with 1 Axes>"
      ]
     },
     "metadata": {
      "needs_background": "light"
     },
     "output_type": "display_data"
    }
   ],
   "source": [
    "logistic_model = LogisticRegression()\n",
    "logistic_model.fit(X[:, 0].reshape(-1,1), Y)\n",
    "\n",
    "test_sepal_length = np.linspace(3, 8)\n",
    "predicted_classes = logistic_model.predict(test_sepal_length.reshape(-1, 1)) \n",
    "plt.scatter(test_sepal_length, predicted_classes, c=plt.cm.coolwarm(predicted_classes*100))\n",
    "add_legend(loc=4, prop={\"size\": 12})\n",
    "plt.show()"
   ]
  },
  {
   "cell_type": "markdown",
   "id": "attended-pontiac",
   "metadata": {},
   "source": [
    "### Optional Exercise:\n",
    "\n",
    "Can you find the (approximate, not exact) values of Sepal length such that the model changes from classifying *Setosa* to *Versicolour*, as well as the (approximate) value that it changes from *Versicolour* to *Virginica*? Plot the decision boundary!"
   ]
  },
  {
   "cell_type": "code",
   "execution_count": 76,
   "id": "egyptian-desktop",
   "metadata": {
    "scrolled": true
   },
   "outputs": [],
   "source": [
    "# Optional Exercise 1: Find the boundary values! Hint: Use np.argwhere!!\n",
    "\n",
    "# Solution OE1:\n",
    "# index_of_last_setosa = np.argwhere(predicted_classes == 0)[-1]  # np.argwhere returns the indices of each value being 0, fetch the last \n",
    "# index_of_last_versicolour = np.argwhere(predicted_classes == 1)[-1]\n",
    "# boundary_setosa = np.sort(test_sepal_length)[index_of_last_setosa]  # Evaluate the index in the ordered linspace to get the [approximate] boundary\n",
    "# boundary_versicolour = np.sort(test_sepal_length)[index_of_last_versicolour]\n",
    "# print(boundary_setosa, boundary_versicolour)"
   ]
  },
  {
   "cell_type": "markdown",
   "id": "express-insulin",
   "metadata": {},
   "source": [
    "## Putting everything together"
   ]
  },
  {
   "cell_type": "markdown",
   "id": "applied-opinion",
   "metadata": {},
   "source": [
    "Now that we have a new model, and a new cost function it uses, let's try to plot how the new model classifies and let's get a metric of how good it is."
   ]
  },
  {
   "cell_type": "code",
   "execution_count": 79,
   "id": "warming-platform",
   "metadata": {
    "scrolled": false
   },
   "outputs": [],
   "source": [
    "X_train, X_test, y_train, y_test = train_test_split(X, Y, test_size=0.2, random_state=42)\n",
    "\n",
    "# Exercise 2: Build a Logistic Regression model on the Train set and evaluate accuracy on test set. [Hint: inspect accuracy_score]\n",
    "\n",
    "logreg = None\n",
    "y_pred = None\n",
    "\n",
    "# Solution E2:\n",
    "# logreg = LogisticRegression().fit(X_train, y_train)\n",
    "# y_pred = logreg.predict(X_test)\n",
    "\n",
    "if y_pred is not None:\n",
    "    print('Train/Test split results:\\n')\n",
    "    print(logreg.__class__.__name__+\" accuracy is %2.3f\" % accuracy_score(y_test, y_pred))\n",
    "    plot_model(X, logistic_reg_model=logreg)"
   ]
  },
  {
   "cell_type": "markdown",
   "id": "japanese-ballot",
   "metadata": {},
   "source": [
    "Luckily for us Scikit learn already has a common *classification_report* method to obtain all this metrics, including accuracy precision, recall and f1_score of each class. Also we can plot the confusion matrix to get, for each class, which ones are more easily confused by the model."
   ]
  },
  {
   "cell_type": "code",
   "execution_count": 80,
   "id": "closing-scale",
   "metadata": {
    "scrolled": false
   },
   "outputs": [],
   "source": [
    "if y_pred is not None:\n",
    "    target_names = ['Setosa', 'Versicolour', 'Virginica']\n",
    "    print(classification_report(y_test, y_pred, target_names=target_names))\n",
    "    resulted_confusion_matrix = confusion_matrix(y_true=y_test, y_pred=y_pred, labels=[0,1,2], normalize='true')\n",
    "    get_heatmap(matrix=resulted_confusion_matrix, labels=target_names)"
   ]
  },
  {
   "cell_type": "markdown",
   "id": "entertaining-continuity",
   "metadata": {},
   "source": [
    "## Logistic Regression with Regulzation"
   ]
  },
  {
   "cell_type": "markdown",
   "id": "funny-history",
   "metadata": {},
   "source": [
    "Usually, when working in Machine Learning, we need our models not only to be accurate but also *robust*. This means that they are not affected by outliers. Let's see how outliers may affect our model!"
   ]
  },
  {
   "cell_type": "code",
   "execution_count": 67,
   "id": "catholic-excerpt",
   "metadata": {
    "scrolled": false
   },
   "outputs": [
    {
     "data": {
      "text/plain": [
       "LogisticRegression(random_state=42)"
      ]
     },
     "execution_count": 67,
     "metadata": {},
     "output_type": "execute_result"
    },
    {
     "data": {
      "text/plain": [
       "LogisticRegression(C=0.6, random_state=42)"
      ]
     },
     "execution_count": 67,
     "metadata": {},
     "output_type": "execute_result"
    },
    {
     "data": {
      "text/plain": [
       "LogisticRegression(random_state=42)"
      ]
     },
     "execution_count": 67,
     "metadata": {},
     "output_type": "execute_result"
    },
    {
     "data": {
      "text/plain": [
       "LogisticRegression(C=0.6, random_state=42)"
      ]
     },
     "execution_count": 67,
     "metadata": {},
     "output_type": "execute_result"
    },
    {
     "data": {
      "text/plain": [
       "LogisticRegression(random_state=42)"
      ]
     },
     "execution_count": 67,
     "metadata": {},
     "output_type": "execute_result"
    },
    {
     "data": {
      "text/plain": [
       "LogisticRegression(C=0.6, random_state=42)"
      ]
     },
     "execution_count": 67,
     "metadata": {},
     "output_type": "execute_result"
    },
    {
     "data": {
      "text/plain": [
       "LogisticRegression(random_state=42)"
      ]
     },
     "execution_count": 67,
     "metadata": {},
     "output_type": "execute_result"
    },
    {
     "data": {
      "text/plain": [
       "LogisticRegression(C=0.6, random_state=42)"
      ]
     },
     "execution_count": 67,
     "metadata": {},
     "output_type": "execute_result"
    },
    {
     "data": {
      "text/plain": [
       "LogisticRegression(random_state=42)"
      ]
     },
     "execution_count": 67,
     "metadata": {},
     "output_type": "execute_result"
    },
    {
     "data": {
      "text/plain": [
       "LogisticRegression(C=0.6, random_state=42)"
      ]
     },
     "execution_count": 67,
     "metadata": {},
     "output_type": "execute_result"
    },
    {
     "data": {
      "text/plain": [
       "LogisticRegression(random_state=42)"
      ]
     },
     "execution_count": 67,
     "metadata": {},
     "output_type": "execute_result"
    },
    {
     "data": {
      "text/plain": [
       "LogisticRegression(C=0.6, random_state=42)"
      ]
     },
     "execution_count": 67,
     "metadata": {},
     "output_type": "execute_result"
    },
    {
     "data": {
      "text/plain": [
       "LogisticRegression(random_state=42)"
      ]
     },
     "execution_count": 67,
     "metadata": {},
     "output_type": "execute_result"
    },
    {
     "data": {
      "text/plain": [
       "LogisticRegression(C=0.6, random_state=42)"
      ]
     },
     "execution_count": 67,
     "metadata": {},
     "output_type": "execute_result"
    },
    {
     "data": {
      "text/plain": [
       "LogisticRegression(random_state=42)"
      ]
     },
     "execution_count": 67,
     "metadata": {},
     "output_type": "execute_result"
    },
    {
     "data": {
      "text/plain": [
       "LogisticRegression(C=0.6, random_state=42)"
      ]
     },
     "execution_count": 67,
     "metadata": {},
     "output_type": "execute_result"
    },
    {
     "data": {
      "text/plain": [
       "LogisticRegression(random_state=42)"
      ]
     },
     "execution_count": 67,
     "metadata": {},
     "output_type": "execute_result"
    },
    {
     "data": {
      "text/plain": [
       "LogisticRegression(C=0.6, random_state=42)"
      ]
     },
     "execution_count": 67,
     "metadata": {},
     "output_type": "execute_result"
    },
    {
     "data": {
      "text/plain": [
       "LogisticRegression(random_state=42)"
      ]
     },
     "execution_count": 67,
     "metadata": {},
     "output_type": "execute_result"
    },
    {
     "data": {
      "text/plain": [
       "LogisticRegression(C=0.6, random_state=42)"
      ]
     },
     "execution_count": 67,
     "metadata": {},
     "output_type": "execute_result"
    },
    {
     "data": {
      "image/png": "[encoded data removed]",
      "text/plain": [
       "<Figure size 720x720 with 1 Axes>"
      ]
     },
     "metadata": {
      "needs_background": "light"
     },
     "output_type": "display_data"
    }
   ],
   "source": [
    "proportions = np.linspace(20, 10, num=10)\n",
    "accuracies = []\n",
    "regularized_accuracies = []\n",
    "for proportion_of_outliers in proportions:\n",
    "    # Build the train and test sets with outliers\n",
    "    X_outliers = np.random.rand(int(len(X)/proportion_of_outliers), 2)*3  + 6\n",
    "    y_outliers = np.random.randint(0, 2, size=int(len(X)/proportion_of_outliers))\n",
    "    new_X = np.vstack([X, X_outliers])\n",
    "    new_Y = np.append(Y, y_outliers)\n",
    "    X_train, X_test, y_train, y_test = train_test_split(new_X, new_Y, test_size=0.2, random_state=42)\n",
    "    \n",
    "    # Get the accuracy for a normal LG model\n",
    "    model = LogisticRegression(random_state=42)\n",
    "    model.fit(X_train, y_train)\n",
    "    y_pred_normal=model.predict(X_test)\n",
    "    accuracies.append(accuracy_score(y_true=y_test, y_pred=y_pred_normal))\n",
    "    \n",
    "    # Get the accuracy for a regularized LG model\n",
    "    regularized_model = LogisticRegression(C=0.6, random_state=42)\n",
    "    regularized_model.fit(X_train, y_train)\n",
    "    y_pred_regularized=regularized_model.predict(X_test)\n",
    "    regularized_accuracies.append(accuracy_score(y_true=y_test, y_pred=y_pred_regularized))\n",
    "\n",
    "plot_accuracies(proportions, accuracies=accuracies, regularized_accuracies=regularized_accuracies)"
   ]
  },
  {
   "cell_type": "markdown",
   "id": "right-scheduling",
   "metadata": {},
   "source": [
    "Regularization usually helps a bit to make our model more robust, however if applied to strongly it can go the other way. Do you imagine why? Let's see how the accuracy evolves when regularization gets stronger (C closer to 0)"
   ]
  },
  {
   "cell_type": "code",
   "execution_count": 68,
   "id": "entire-classic",
   "metadata": {
    "scrolled": true
   },
   "outputs": [
    {
     "data": {
      "text/plain": [
       "LogisticRegression(C=0.006713662302786169, intercept_scaling=10000.0,\n",
       "                   max_iter=1000000, penalty='l1', random_state=42,\n",
       "                   solver='liblinear', tol=1e-06, warm_start=True)"
      ]
     },
     "execution_count": 68,
     "metadata": {},
     "output_type": "execute_result"
    },
    {
     "data": {
      "text/plain": [
       "LogisticRegression(C=0.006713662302786169, intercept_scaling=10000.0,\n",
       "                   max_iter=1000000, penalty='l1', random_state=42,\n",
       "                   solver='liblinear', tol=1e-06, warm_start=True)"
      ]
     },
     "execution_count": 68,
     "metadata": {},
     "output_type": "execute_result"
    },
    {
     "data": {
      "text/plain": [
       "LogisticRegression(C=0.016746857633061055, intercept_scaling=10000.0,\n",
       "                   max_iter=1000000, penalty='l1', random_state=42,\n",
       "                   solver='liblinear', tol=1e-06, warm_start=True)"
      ]
     },
     "execution_count": 68,
     "metadata": {},
     "output_type": "execute_result"
    },
    {
     "data": {
      "text/plain": [
       "LogisticRegression(C=0.016746857633061055, intercept_scaling=10000.0,\n",
       "                   max_iter=1000000, penalty='l1', random_state=42,\n",
       "                   solver='liblinear', tol=1e-06, warm_start=True)"
      ]
     },
     "execution_count": 68,
     "metadata": {},
     "output_type": "execute_result"
    },
    {
     "data": {
      "text/plain": [
       "LogisticRegression(C=0.026780052963335944, intercept_scaling=10000.0,\n",
       "                   max_iter=1000000, penalty='l1', random_state=42,\n",
       "                   solver='liblinear', tol=1e-06, warm_start=True)"
      ]
     },
     "execution_count": 68,
     "metadata": {},
     "output_type": "execute_result"
    },
    {
     "data": {
      "text/plain": [
       "LogisticRegression(C=0.026780052963335944, intercept_scaling=10000.0,\n",
       "                   max_iter=1000000, penalty='l1', random_state=42,\n",
       "                   solver='liblinear', tol=1e-06, warm_start=True)"
      ]
     },
     "execution_count": 68,
     "metadata": {},
     "output_type": "execute_result"
    },
    {
     "data": {
      "text/plain": [
       "LogisticRegression(C=0.03681324829361083, intercept_scaling=10000.0,\n",
       "                   max_iter=1000000, penalty='l1', random_state=42,\n",
       "                   solver='liblinear', tol=1e-06, warm_start=True)"
      ]
     },
     "execution_count": 68,
     "metadata": {},
     "output_type": "execute_result"
    },
    {
     "data": {
      "text/plain": [
       "LogisticRegression(C=0.03681324829361083, intercept_scaling=10000.0,\n",
       "                   max_iter=1000000, penalty='l1', random_state=42,\n",
       "                   solver='liblinear', tol=1e-06, warm_start=True)"
      ]
     },
     "execution_count": 68,
     "metadata": {},
     "output_type": "execute_result"
    },
    {
     "data": {
      "text/plain": [
       "LogisticRegression(C=0.046846443623885715, intercept_scaling=10000.0,\n",
       "                   max_iter=1000000, penalty='l1', random_state=42,\n",
       "                   solver='liblinear', tol=1e-06, warm_start=True)"
      ]
     },
     "execution_count": 68,
     "metadata": {},
     "output_type": "execute_result"
    },
    {
     "data": {
      "text/plain": [
       "LogisticRegression(C=0.046846443623885715, intercept_scaling=10000.0,\n",
       "                   max_iter=1000000, penalty='l1', random_state=42,\n",
       "                   solver='liblinear', tol=1e-06, warm_start=True)"
      ]
     },
     "execution_count": 68,
     "metadata": {},
     "output_type": "execute_result"
    },
    {
     "data": {
      "text/plain": [
       "LogisticRegression(C=0.0568796389541606, intercept_scaling=10000.0,\n",
       "                   max_iter=1000000, penalty='l1', random_state=42,\n",
       "                   solver='liblinear', tol=1e-06, warm_start=True)"
      ]
     },
     "execution_count": 68,
     "metadata": {},
     "output_type": "execute_result"
    },
    {
     "data": {
      "text/plain": [
       "LogisticRegression(C=0.0568796389541606, intercept_scaling=10000.0,\n",
       "                   max_iter=1000000, penalty='l1', random_state=42,\n",
       "                   solver='liblinear', tol=1e-06, warm_start=True)"
      ]
     },
     "execution_count": 68,
     "metadata": {},
     "output_type": "execute_result"
    },
    {
     "data": {
      "text/plain": [
       "LogisticRegression(C=0.0669128342844355, intercept_scaling=10000.0,\n",
       "                   max_iter=1000000, penalty='l1', random_state=42,\n",
       "                   solver='liblinear', tol=1e-06, warm_start=True)"
      ]
     },
     "execution_count": 68,
     "metadata": {},
     "output_type": "execute_result"
    },
    {
     "data": {
      "text/plain": [
       "LogisticRegression(C=0.0669128342844355, intercept_scaling=10000.0,\n",
       "                   max_iter=1000000, penalty='l1', random_state=42,\n",
       "                   solver='liblinear', tol=1e-06, warm_start=True)"
      ]
     },
     "execution_count": 68,
     "metadata": {},
     "output_type": "execute_result"
    },
    {
     "data": {
      "text/plain": [
       "LogisticRegression(C=0.07694602961471038, intercept_scaling=10000.0,\n",
       "                   max_iter=1000000, penalty='l1', random_state=42,\n",
       "                   solver='liblinear', tol=1e-06, warm_start=True)"
      ]
     },
     "execution_count": 68,
     "metadata": {},
     "output_type": "execute_result"
    },
    {
     "data": {
      "text/plain": [
       "LogisticRegression(C=0.07694602961471038, intercept_scaling=10000.0,\n",
       "                   max_iter=1000000, penalty='l1', random_state=42,\n",
       "                   solver='liblinear', tol=1e-06, warm_start=True)"
      ]
     },
     "execution_count": 68,
     "metadata": {},
     "output_type": "execute_result"
    },
    {
     "data": {
      "text/plain": [
       "LogisticRegression(C=0.08697922494498526, intercept_scaling=10000.0,\n",
       "                   max_iter=1000000, penalty='l1', random_state=42,\n",
       "                   solver='liblinear', tol=1e-06, warm_start=True)"
      ]
     },
     "execution_count": 68,
     "metadata": {},
     "output_type": "execute_result"
    },
    {
     "data": {
      "text/plain": [
       "LogisticRegression(C=0.08697922494498526, intercept_scaling=10000.0,\n",
       "                   max_iter=1000000, penalty='l1', random_state=42,\n",
       "                   solver='liblinear', tol=1e-06, warm_start=True)"
      ]
     },
     "execution_count": 68,
     "metadata": {},
     "output_type": "execute_result"
    },
    {
     "data": {
      "text/plain": [
       "LogisticRegression(C=0.09701242027526015, intercept_scaling=10000.0,\n",
       "                   max_iter=1000000, penalty='l1', random_state=42,\n",
       "                   solver='liblinear', tol=1e-06, warm_start=True)"
      ]
     },
     "execution_count": 68,
     "metadata": {},
     "output_type": "execute_result"
    },
    {
     "data": {
      "text/plain": [
       "LogisticRegression(C=0.09701242027526015, intercept_scaling=10000.0,\n",
       "                   max_iter=1000000, penalty='l1', random_state=42,\n",
       "                   solver='liblinear', tol=1e-06, warm_start=True)"
      ]
     },
     "execution_count": 68,
     "metadata": {},
     "output_type": "execute_result"
    },
    {
     "data": {
      "text/plain": [
       "LogisticRegression(C=0.10704561560553504, intercept_scaling=10000.0,\n",
       "                   max_iter=1000000, penalty='l1', random_state=42,\n",
       "                   solver='liblinear', tol=1e-06, warm_start=True)"
      ]
     },
     "execution_count": 68,
     "metadata": {},
     "output_type": "execute_result"
    },
    {
     "data": {
      "text/plain": [
       "LogisticRegression(C=0.10704561560553504, intercept_scaling=10000.0,\n",
       "                   max_iter=1000000, penalty='l1', random_state=42,\n",
       "                   solver='liblinear', tol=1e-06, warm_start=True)"
      ]
     },
     "execution_count": 68,
     "metadata": {},
     "output_type": "execute_result"
    },
    {
     "data": {
      "text/plain": [
       "LogisticRegression(C=0.11707881093580992, intercept_scaling=10000.0,\n",
       "                   max_iter=1000000, penalty='l1', random_state=42,\n",
       "                   solver='liblinear', tol=1e-06, warm_start=True)"
      ]
     },
     "execution_count": 68,
     "metadata": {},
     "output_type": "execute_result"
    },
    {
     "data": {
      "text/plain": [
       "LogisticRegression(C=0.11707881093580992, intercept_scaling=10000.0,\n",
       "                   max_iter=1000000, penalty='l1', random_state=42,\n",
       "                   solver='liblinear', tol=1e-06, warm_start=True)"
      ]
     },
     "execution_count": 68,
     "metadata": {},
     "output_type": "execute_result"
    },
    {
     "data": {
      "text/plain": [
       "LogisticRegression(C=0.12711200626608482, intercept_scaling=10000.0,\n",
       "                   max_iter=1000000, penalty='l1', random_state=42,\n",
       "                   solver='liblinear', tol=1e-06, warm_start=True)"
      ]
     },
     "execution_count": 68,
     "metadata": {},
     "output_type": "execute_result"
    },
    {
     "data": {
      "text/plain": [
       "LogisticRegression(C=0.12711200626608482, intercept_scaling=10000.0,\n",
       "                   max_iter=1000000, penalty='l1', random_state=42,\n",
       "                   solver='liblinear', tol=1e-06, warm_start=True)"
      ]
     },
     "execution_count": 68,
     "metadata": {},
     "output_type": "execute_result"
    },
    {
     "data": {
      "text/plain": [
       "LogisticRegression(C=0.1371452015963597, intercept_scaling=10000.0,\n",
       "                   max_iter=1000000, penalty='l1', random_state=42,\n",
       "                   solver='liblinear', tol=1e-06, warm_start=True)"
      ]
     },
     "execution_count": 68,
     "metadata": {},
     "output_type": "execute_result"
    },
    {
     "data": {
      "text/plain": [
       "LogisticRegression(C=0.1371452015963597, intercept_scaling=10000.0,\n",
       "                   max_iter=1000000, penalty='l1', random_state=42,\n",
       "                   solver='liblinear', tol=1e-06, warm_start=True)"
      ]
     },
     "execution_count": 68,
     "metadata": {},
     "output_type": "execute_result"
    },
    {
     "data": {
      "text/plain": [
       "LogisticRegression(C=0.1471783969266346, intercept_scaling=10000.0,\n",
       "                   max_iter=1000000, penalty='l1', random_state=42,\n",
       "                   solver='liblinear', tol=1e-06, warm_start=True)"
      ]
     },
     "execution_count": 68,
     "metadata": {},
     "output_type": "execute_result"
    },
    {
     "data": {
      "text/plain": [
       "LogisticRegression(C=0.1471783969266346, intercept_scaling=10000.0,\n",
       "                   max_iter=1000000, penalty='l1', random_state=42,\n",
       "                   solver='liblinear', tol=1e-06, warm_start=True)"
      ]
     },
     "execution_count": 68,
     "metadata": {},
     "output_type": "execute_result"
    },
    {
     "data": {
      "text/plain": [
       "LogisticRegression(C=0.15721159225690948, intercept_scaling=10000.0,\n",
       "                   max_iter=1000000, penalty='l1', random_state=42,\n",
       "                   solver='liblinear', tol=1e-06, warm_start=True)"
      ]
     },
     "execution_count": 68,
     "metadata": {},
     "output_type": "execute_result"
    },
    {
     "data": {
      "text/plain": [
       "LogisticRegression(C=0.15721159225690948, intercept_scaling=10000.0,\n",
       "                   max_iter=1000000, penalty='l1', random_state=42,\n",
       "                   solver='liblinear', tol=1e-06, warm_start=True)"
      ]
     },
     "execution_count": 68,
     "metadata": {},
     "output_type": "execute_result"
    },
    {
     "data": {
      "text/plain": [
       "LogisticRegression(C=0.16724478758718436, intercept_scaling=10000.0,\n",
       "                   max_iter=1000000, penalty='l1', random_state=42,\n",
       "                   solver='liblinear', tol=1e-06, warm_start=True)"
      ]
     },
     "execution_count": 68,
     "metadata": {},
     "output_type": "execute_result"
    },
    {
     "data": {
      "text/plain": [
       "LogisticRegression(C=0.16724478758718436, intercept_scaling=10000.0,\n",
       "                   max_iter=1000000, penalty='l1', random_state=42,\n",
       "                   solver='liblinear', tol=1e-06, warm_start=True)"
      ]
     },
     "execution_count": 68,
     "metadata": {},
     "output_type": "execute_result"
    },
    {
     "data": {
      "text/plain": [
       "LogisticRegression(C=0.17727798291745925, intercept_scaling=10000.0,\n",
       "                   max_iter=1000000, penalty='l1', random_state=42,\n",
       "                   solver='liblinear', tol=1e-06, warm_start=True)"
      ]
     },
     "execution_count": 68,
     "metadata": {},
     "output_type": "execute_result"
    },
    {
     "data": {
      "text/plain": [
       "LogisticRegression(C=0.17727798291745925, intercept_scaling=10000.0,\n",
       "                   max_iter=1000000, penalty='l1', random_state=42,\n",
       "                   solver='liblinear', tol=1e-06, warm_start=True)"
      ]
     },
     "execution_count": 68,
     "metadata": {},
     "output_type": "execute_result"
    },
    {
     "data": {
      "text/plain": [
       "LogisticRegression(C=0.18731117824773413, intercept_scaling=10000.0,\n",
       "                   max_iter=1000000, penalty='l1', random_state=42,\n",
       "                   solver='liblinear', tol=1e-06, warm_start=True)"
      ]
     },
     "execution_count": 68,
     "metadata": {},
     "output_type": "execute_result"
    },
    {
     "data": {
      "text/plain": [
       "LogisticRegression(C=0.18731117824773413, intercept_scaling=10000.0,\n",
       "                   max_iter=1000000, penalty='l1', random_state=42,\n",
       "                   solver='liblinear', tol=1e-06, warm_start=True)"
      ]
     },
     "execution_count": 68,
     "metadata": {},
     "output_type": "execute_result"
    },
    {
     "data": {
      "text/plain": [
       "LogisticRegression(C=0.19734437357800902, intercept_scaling=10000.0,\n",
       "                   max_iter=1000000, penalty='l1', random_state=42,\n",
       "                   solver='liblinear', tol=1e-06, warm_start=True)"
      ]
     },
     "execution_count": 68,
     "metadata": {},
     "output_type": "execute_result"
    },
    {
     "data": {
      "text/plain": [
       "LogisticRegression(C=0.19734437357800902, intercept_scaling=10000.0,\n",
       "                   max_iter=1000000, penalty='l1', random_state=42,\n",
       "                   solver='liblinear', tol=1e-06, warm_start=True)"
      ]
     },
     "execution_count": 68,
     "metadata": {},
     "output_type": "execute_result"
    },
    {
     "data": {
      "text/plain": [
       "LogisticRegression(C=0.2073775689082839, intercept_scaling=10000.0,\n",
       "                   max_iter=1000000, penalty='l1', random_state=42,\n",
       "                   solver='liblinear', tol=1e-06, warm_start=True)"
      ]
     },
     "execution_count": 68,
     "metadata": {},
     "output_type": "execute_result"
    },
    {
     "data": {
      "text/plain": [
       "LogisticRegression(C=0.2073775689082839, intercept_scaling=10000.0,\n",
       "                   max_iter=1000000, penalty='l1', random_state=42,\n",
       "                   solver='liblinear', tol=1e-06, warm_start=True)"
      ]
     },
     "execution_count": 68,
     "metadata": {},
     "output_type": "execute_result"
    },
    {
     "data": {
      "text/plain": [
       "LogisticRegression(C=0.2174107642385588, intercept_scaling=10000.0,\n",
       "                   max_iter=1000000, penalty='l1', random_state=42,\n",
       "                   solver='liblinear', tol=1e-06, warm_start=True)"
      ]
     },
     "execution_count": 68,
     "metadata": {},
     "output_type": "execute_result"
    },
    {
     "data": {
      "text/plain": [
       "LogisticRegression(C=0.2174107642385588, intercept_scaling=10000.0,\n",
       "                   max_iter=1000000, penalty='l1', random_state=42,\n",
       "                   solver='liblinear', tol=1e-06, warm_start=True)"
      ]
     },
     "execution_count": 68,
     "metadata": {},
     "output_type": "execute_result"
    },
    {
     "data": {
      "text/plain": [
       "LogisticRegression(C=0.22744395956883368, intercept_scaling=10000.0,\n",
       "                   max_iter=1000000, penalty='l1', random_state=42,\n",
       "                   solver='liblinear', tol=1e-06, warm_start=True)"
      ]
     },
     "execution_count": 68,
     "metadata": {},
     "output_type": "execute_result"
    },
    {
     "data": {
      "text/plain": [
       "LogisticRegression(C=0.22744395956883368, intercept_scaling=10000.0,\n",
       "                   max_iter=1000000, penalty='l1', random_state=42,\n",
       "                   solver='liblinear', tol=1e-06, warm_start=True)"
      ]
     },
     "execution_count": 68,
     "metadata": {},
     "output_type": "execute_result"
    },
    {
     "data": {
      "text/plain": [
       "LogisticRegression(C=0.23747715489910856, intercept_scaling=10000.0,\n",
       "                   max_iter=1000000, penalty='l1', random_state=42,\n",
       "                   solver='liblinear', tol=1e-06, warm_start=True)"
      ]
     },
     "execution_count": 68,
     "metadata": {},
     "output_type": "execute_result"
    },
    {
     "data": {
      "text/plain": [
       "LogisticRegression(C=0.23747715489910856, intercept_scaling=10000.0,\n",
       "                   max_iter=1000000, penalty='l1', random_state=42,\n",
       "                   solver='liblinear', tol=1e-06, warm_start=True)"
      ]
     },
     "execution_count": 68,
     "metadata": {},
     "output_type": "execute_result"
    },
    {
     "data": {
      "text/plain": [
       "LogisticRegression(C=0.24751035022938347, intercept_scaling=10000.0,\n",
       "                   max_iter=1000000, penalty='l1', random_state=42,\n",
       "                   solver='liblinear', tol=1e-06, warm_start=True)"
      ]
     },
     "execution_count": 68,
     "metadata": {},
     "output_type": "execute_result"
    },
    {
     "data": {
      "text/plain": [
       "LogisticRegression(C=0.24751035022938347, intercept_scaling=10000.0,\n",
       "                   max_iter=1000000, penalty='l1', random_state=42,\n",
       "                   solver='liblinear', tol=1e-06, warm_start=True)"
      ]
     },
     "execution_count": 68,
     "metadata": {},
     "output_type": "execute_result"
    },
    {
     "data": {
      "text/plain": [
       "LogisticRegression(C=0.25754354555965836, intercept_scaling=10000.0,\n",
       "                   max_iter=1000000, penalty='l1', random_state=42,\n",
       "                   solver='liblinear', tol=1e-06, warm_start=True)"
      ]
     },
     "execution_count": 68,
     "metadata": {},
     "output_type": "execute_result"
    },
    {
     "data": {
      "text/plain": [
       "LogisticRegression(C=0.25754354555965836, intercept_scaling=10000.0,\n",
       "                   max_iter=1000000, penalty='l1', random_state=42,\n",
       "                   solver='liblinear', tol=1e-06, warm_start=True)"
      ]
     },
     "execution_count": 68,
     "metadata": {},
     "output_type": "execute_result"
    },
    {
     "data": {
      "text/plain": [
       "LogisticRegression(C=0.2675767408899333, intercept_scaling=10000.0,\n",
       "                   max_iter=1000000, penalty='l1', random_state=42,\n",
       "                   solver='liblinear', tol=1e-06, warm_start=True)"
      ]
     },
     "execution_count": 68,
     "metadata": {},
     "output_type": "execute_result"
    },
    {
     "data": {
      "text/plain": [
       "LogisticRegression(C=0.2675767408899333, intercept_scaling=10000.0,\n",
       "                   max_iter=1000000, penalty='l1', random_state=42,\n",
       "                   solver='liblinear', tol=1e-06, warm_start=True)"
      ]
     },
     "execution_count": 68,
     "metadata": {},
     "output_type": "execute_result"
    },
    {
     "data": {
      "text/plain": [
       "LogisticRegression(C=0.27760993622020813, intercept_scaling=10000.0,\n",
       "                   max_iter=1000000, penalty='l1', random_state=42,\n",
       "                   solver='liblinear', tol=1e-06, warm_start=True)"
      ]
     },
     "execution_count": 68,
     "metadata": {},
     "output_type": "execute_result"
    },
    {
     "data": {
      "text/plain": [
       "LogisticRegression(C=0.27760993622020813, intercept_scaling=10000.0,\n",
       "                   max_iter=1000000, penalty='l1', random_state=42,\n",
       "                   solver='liblinear', tol=1e-06, warm_start=True)"
      ]
     },
     "execution_count": 68,
     "metadata": {},
     "output_type": "execute_result"
    },
    {
     "data": {
      "text/plain": [
       "LogisticRegression(C=0.28764313155048304, intercept_scaling=10000.0,\n",
       "                   max_iter=1000000, penalty='l1', random_state=42,\n",
       "                   solver='liblinear', tol=1e-06, warm_start=True)"
      ]
     },
     "execution_count": 68,
     "metadata": {},
     "output_type": "execute_result"
    },
    {
     "data": {
      "text/plain": [
       "LogisticRegression(C=0.28764313155048304, intercept_scaling=10000.0,\n",
       "                   max_iter=1000000, penalty='l1', random_state=42,\n",
       "                   solver='liblinear', tol=1e-06, warm_start=True)"
      ]
     },
     "execution_count": 68,
     "metadata": {},
     "output_type": "execute_result"
    },
    {
     "data": {
      "text/plain": [
       "LogisticRegression(C=0.2976763268807579, intercept_scaling=10000.0,\n",
       "                   max_iter=1000000, penalty='l1', random_state=42,\n",
       "                   solver='liblinear', tol=1e-06, warm_start=True)"
      ]
     },
     "execution_count": 68,
     "metadata": {},
     "output_type": "execute_result"
    },
    {
     "data": {
      "text/plain": [
       "LogisticRegression(C=0.2976763268807579, intercept_scaling=10000.0,\n",
       "                   max_iter=1000000, penalty='l1', random_state=42,\n",
       "                   solver='liblinear', tol=1e-06, warm_start=True)"
      ]
     },
     "execution_count": 68,
     "metadata": {},
     "output_type": "execute_result"
    },
    {
     "data": {
      "text/plain": [
       "LogisticRegression(C=0.3077095222110328, intercept_scaling=10000.0,\n",
       "                   max_iter=1000000, penalty='l1', random_state=42,\n",
       "                   solver='liblinear', tol=1e-06, warm_start=True)"
      ]
     },
     "execution_count": 68,
     "metadata": {},
     "output_type": "execute_result"
    },
    {
     "data": {
      "text/plain": [
       "LogisticRegression(C=0.3077095222110328, intercept_scaling=10000.0,\n",
       "                   max_iter=1000000, penalty='l1', random_state=42,\n",
       "                   solver='liblinear', tol=1e-06, warm_start=True)"
      ]
     },
     "execution_count": 68,
     "metadata": {},
     "output_type": "execute_result"
    },
    {
     "data": {
      "text/plain": [
       "LogisticRegression(C=0.3177427175413077, intercept_scaling=10000.0,\n",
       "                   max_iter=1000000, penalty='l1', random_state=42,\n",
       "                   solver='liblinear', tol=1e-06, warm_start=True)"
      ]
     },
     "execution_count": 68,
     "metadata": {},
     "output_type": "execute_result"
    },
    {
     "data": {
      "text/plain": [
       "LogisticRegression(C=0.3177427175413077, intercept_scaling=10000.0,\n",
       "                   max_iter=1000000, penalty='l1', random_state=42,\n",
       "                   solver='liblinear', tol=1e-06, warm_start=True)"
      ]
     },
     "execution_count": 68,
     "metadata": {},
     "output_type": "execute_result"
    },
    {
     "data": {
      "text/plain": [
       "LogisticRegression(C=0.3277759128715826, intercept_scaling=10000.0,\n",
       "                   max_iter=1000000, penalty='l1', random_state=42,\n",
       "                   solver='liblinear', tol=1e-06, warm_start=True)"
      ]
     },
     "execution_count": 68,
     "metadata": {},
     "output_type": "execute_result"
    },
    {
     "data": {
      "text/plain": [
       "LogisticRegression(C=0.3277759128715826, intercept_scaling=10000.0,\n",
       "                   max_iter=1000000, penalty='l1', random_state=42,\n",
       "                   solver='liblinear', tol=1e-06, warm_start=True)"
      ]
     },
     "execution_count": 68,
     "metadata": {},
     "output_type": "execute_result"
    },
    {
     "data": {
      "text/plain": [
       "LogisticRegression(C=0.3378091082018575, intercept_scaling=10000.0,\n",
       "                   max_iter=1000000, penalty='l1', random_state=42,\n",
       "                   solver='liblinear', tol=1e-06, warm_start=True)"
      ]
     },
     "execution_count": 68,
     "metadata": {},
     "output_type": "execute_result"
    },
    {
     "data": {
      "text/plain": [
       "LogisticRegression(C=0.3378091082018575, intercept_scaling=10000.0,\n",
       "                   max_iter=1000000, penalty='l1', random_state=42,\n",
       "                   solver='liblinear', tol=1e-06, warm_start=True)"
      ]
     },
     "execution_count": 68,
     "metadata": {},
     "output_type": "execute_result"
    },
    {
     "data": {
      "text/plain": [
       "LogisticRegression(C=0.34784230353213236, intercept_scaling=10000.0,\n",
       "                   max_iter=1000000, penalty='l1', random_state=42,\n",
       "                   solver='liblinear', tol=1e-06, warm_start=True)"
      ]
     },
     "execution_count": 68,
     "metadata": {},
     "output_type": "execute_result"
    },
    {
     "data": {
      "text/plain": [
       "LogisticRegression(C=0.34784230353213236, intercept_scaling=10000.0,\n",
       "                   max_iter=1000000, penalty='l1', random_state=42,\n",
       "                   solver='liblinear', tol=1e-06, warm_start=True)"
      ]
     },
     "execution_count": 68,
     "metadata": {},
     "output_type": "execute_result"
    },
    {
     "data": {
      "text/plain": [
       "LogisticRegression(C=0.35787549886240727, intercept_scaling=10000.0,\n",
       "                   max_iter=1000000, penalty='l1', random_state=42,\n",
       "                   solver='liblinear', tol=1e-06, warm_start=True)"
      ]
     },
     "execution_count": 68,
     "metadata": {},
     "output_type": "execute_result"
    },
    {
     "data": {
      "text/plain": [
       "LogisticRegression(C=0.35787549886240727, intercept_scaling=10000.0,\n",
       "                   max_iter=1000000, penalty='l1', random_state=42,\n",
       "                   solver='liblinear', tol=1e-06, warm_start=True)"
      ]
     },
     "execution_count": 68,
     "metadata": {},
     "output_type": "execute_result"
    },
    {
     "data": {
      "text/plain": [
       "LogisticRegression(C=0.36790869419268213, intercept_scaling=10000.0,\n",
       "                   max_iter=1000000, penalty='l1', random_state=42,\n",
       "                   solver='liblinear', tol=1e-06, warm_start=True)"
      ]
     },
     "execution_count": 68,
     "metadata": {},
     "output_type": "execute_result"
    },
    {
     "data": {
      "text/plain": [
       "LogisticRegression(C=0.36790869419268213, intercept_scaling=10000.0,\n",
       "                   max_iter=1000000, penalty='l1', random_state=42,\n",
       "                   solver='liblinear', tol=1e-06, warm_start=True)"
      ]
     },
     "execution_count": 68,
     "metadata": {},
     "output_type": "execute_result"
    },
    {
     "data": {
      "text/plain": [
       "LogisticRegression(C=0.37794188952295704, intercept_scaling=10000.0,\n",
       "                   max_iter=1000000, penalty='l1', random_state=42,\n",
       "                   solver='liblinear', tol=1e-06, warm_start=True)"
      ]
     },
     "execution_count": 68,
     "metadata": {},
     "output_type": "execute_result"
    },
    {
     "data": {
      "text/plain": [
       "LogisticRegression(C=0.37794188952295704, intercept_scaling=10000.0,\n",
       "                   max_iter=1000000, penalty='l1', random_state=42,\n",
       "                   solver='liblinear', tol=1e-06, warm_start=True)"
      ]
     },
     "execution_count": 68,
     "metadata": {},
     "output_type": "execute_result"
    },
    {
     "data": {
      "text/plain": [
       "LogisticRegression(C=0.3879750848532319, intercept_scaling=10000.0,\n",
       "                   max_iter=1000000, penalty='l1', random_state=42,\n",
       "                   solver='liblinear', tol=1e-06, warm_start=True)"
      ]
     },
     "execution_count": 68,
     "metadata": {},
     "output_type": "execute_result"
    },
    {
     "data": {
      "text/plain": [
       "LogisticRegression(C=0.3879750848532319, intercept_scaling=10000.0,\n",
       "                   max_iter=1000000, penalty='l1', random_state=42,\n",
       "                   solver='liblinear', tol=1e-06, warm_start=True)"
      ]
     },
     "execution_count": 68,
     "metadata": {},
     "output_type": "execute_result"
    },
    {
     "data": {
      "text/plain": [
       "LogisticRegression(C=0.3980082801835068, intercept_scaling=10000.0,\n",
       "                   max_iter=1000000, penalty='l1', random_state=42,\n",
       "                   solver='liblinear', tol=1e-06, warm_start=True)"
      ]
     },
     "execution_count": 68,
     "metadata": {},
     "output_type": "execute_result"
    },
    {
     "data": {
      "text/plain": [
       "LogisticRegression(C=0.3980082801835068, intercept_scaling=10000.0,\n",
       "                   max_iter=1000000, penalty='l1', random_state=42,\n",
       "                   solver='liblinear', tol=1e-06, warm_start=True)"
      ]
     },
     "execution_count": 68,
     "metadata": {},
     "output_type": "execute_result"
    },
    {
     "data": {
      "text/plain": [
       "LogisticRegression(C=0.40804147551378167, intercept_scaling=10000.0,\n",
       "                   max_iter=1000000, penalty='l1', random_state=42,\n",
       "                   solver='liblinear', tol=1e-06, warm_start=True)"
      ]
     },
     "execution_count": 68,
     "metadata": {},
     "output_type": "execute_result"
    },
    {
     "data": {
      "text/plain": [
       "LogisticRegression(C=0.40804147551378167, intercept_scaling=10000.0,\n",
       "                   max_iter=1000000, penalty='l1', random_state=42,\n",
       "                   solver='liblinear', tol=1e-06, warm_start=True)"
      ]
     },
     "execution_count": 68,
     "metadata": {},
     "output_type": "execute_result"
    },
    {
     "data": {
      "text/plain": [
       "LogisticRegression(C=0.4180746708440566, intercept_scaling=10000.0,\n",
       "                   max_iter=1000000, penalty='l1', random_state=42,\n",
       "                   solver='liblinear', tol=1e-06, warm_start=True)"
      ]
     },
     "execution_count": 68,
     "metadata": {},
     "output_type": "execute_result"
    },
    {
     "data": {
      "text/plain": [
       "LogisticRegression(C=0.4180746708440566, intercept_scaling=10000.0,\n",
       "                   max_iter=1000000, penalty='l1', random_state=42,\n",
       "                   solver='liblinear', tol=1e-06, warm_start=True)"
      ]
     },
     "execution_count": 68,
     "metadata": {},
     "output_type": "execute_result"
    },
    {
     "data": {
      "text/plain": [
       "LogisticRegression(C=0.42810786617433144, intercept_scaling=10000.0,\n",
       "                   max_iter=1000000, penalty='l1', random_state=42,\n",
       "                   solver='liblinear', tol=1e-06, warm_start=True)"
      ]
     },
     "execution_count": 68,
     "metadata": {},
     "output_type": "execute_result"
    },
    {
     "data": {
      "text/plain": [
       "LogisticRegression(C=0.42810786617433144, intercept_scaling=10000.0,\n",
       "                   max_iter=1000000, penalty='l1', random_state=42,\n",
       "                   solver='liblinear', tol=1e-06, warm_start=True)"
      ]
     },
     "execution_count": 68,
     "metadata": {},
     "output_type": "execute_result"
    },
    {
     "data": {
      "text/plain": [
       "LogisticRegression(C=0.43814106150460636, intercept_scaling=10000.0,\n",
       "                   max_iter=1000000, penalty='l1', random_state=42,\n",
       "                   solver='liblinear', tol=1e-06, warm_start=True)"
      ]
     },
     "execution_count": 68,
     "metadata": {},
     "output_type": "execute_result"
    },
    {
     "data": {
      "text/plain": [
       "LogisticRegression(C=0.43814106150460636, intercept_scaling=10000.0,\n",
       "                   max_iter=1000000, penalty='l1', random_state=42,\n",
       "                   solver='liblinear', tol=1e-06, warm_start=True)"
      ]
     },
     "execution_count": 68,
     "metadata": {},
     "output_type": "execute_result"
    },
    {
     "data": {
      "text/plain": [
       "LogisticRegression(C=0.4481742568348812, intercept_scaling=10000.0,\n",
       "                   max_iter=1000000, penalty='l1', random_state=42,\n",
       "                   solver='liblinear', tol=1e-06, warm_start=True)"
      ]
     },
     "execution_count": 68,
     "metadata": {},
     "output_type": "execute_result"
    },
    {
     "data": {
      "text/plain": [
       "LogisticRegression(C=0.4481742568348812, intercept_scaling=10000.0,\n",
       "                   max_iter=1000000, penalty='l1', random_state=42,\n",
       "                   solver='liblinear', tol=1e-06, warm_start=True)"
      ]
     },
     "execution_count": 68,
     "metadata": {},
     "output_type": "execute_result"
    },
    {
     "data": {
      "text/plain": [
       "LogisticRegression(C=0.4582074521651561, intercept_scaling=10000.0,\n",
       "                   max_iter=1000000, penalty='l1', random_state=42,\n",
       "                   solver='liblinear', tol=1e-06, warm_start=True)"
      ]
     },
     "execution_count": 68,
     "metadata": {},
     "output_type": "execute_result"
    },
    {
     "data": {
      "text/plain": [
       "LogisticRegression(C=0.4582074521651561, intercept_scaling=10000.0,\n",
       "                   max_iter=1000000, penalty='l1', random_state=42,\n",
       "                   solver='liblinear', tol=1e-06, warm_start=True)"
      ]
     },
     "execution_count": 68,
     "metadata": {},
     "output_type": "execute_result"
    },
    {
     "data": {
      "text/plain": [
       "LogisticRegression(C=0.468240647495431, intercept_scaling=10000.0,\n",
       "                   max_iter=1000000, penalty='l1', random_state=42,\n",
       "                   solver='liblinear', tol=1e-06, warm_start=True)"
      ]
     },
     "execution_count": 68,
     "metadata": {},
     "output_type": "execute_result"
    },
    {
     "data": {
      "text/plain": [
       "LogisticRegression(C=0.468240647495431, intercept_scaling=10000.0,\n",
       "                   max_iter=1000000, penalty='l1', random_state=42,\n",
       "                   solver='liblinear', tol=1e-06, warm_start=True)"
      ]
     },
     "execution_count": 68,
     "metadata": {},
     "output_type": "execute_result"
    },
    {
     "data": {
      "text/plain": [
       "LogisticRegression(C=0.4782738428257059, intercept_scaling=10000.0,\n",
       "                   max_iter=1000000, penalty='l1', random_state=42,\n",
       "                   solver='liblinear', tol=1e-06, warm_start=True)"
      ]
     },
     "execution_count": 68,
     "metadata": {},
     "output_type": "execute_result"
    },
    {
     "data": {
      "text/plain": [
       "LogisticRegression(C=0.4782738428257059, intercept_scaling=10000.0,\n",
       "                   max_iter=1000000, penalty='l1', random_state=42,\n",
       "                   solver='liblinear', tol=1e-06, warm_start=True)"
      ]
     },
     "execution_count": 68,
     "metadata": {},
     "output_type": "execute_result"
    },
    {
     "data": {
      "text/plain": [
       "LogisticRegression(C=0.4883070381559808, intercept_scaling=10000.0,\n",
       "                   max_iter=1000000, penalty='l1', random_state=42,\n",
       "                   solver='liblinear', tol=1e-06, warm_start=True)"
      ]
     },
     "execution_count": 68,
     "metadata": {},
     "output_type": "execute_result"
    },
    {
     "data": {
      "text/plain": [
       "LogisticRegression(C=0.4883070381559808, intercept_scaling=10000.0,\n",
       "                   max_iter=1000000, penalty='l1', random_state=42,\n",
       "                   solver='liblinear', tol=1e-06, warm_start=True)"
      ]
     },
     "execution_count": 68,
     "metadata": {},
     "output_type": "execute_result"
    },
    {
     "data": {
      "text/plain": [
       "LogisticRegression(C=0.49834023348625567, intercept_scaling=10000.0,\n",
       "                   max_iter=1000000, penalty='l1', random_state=42,\n",
       "                   solver='liblinear', tol=1e-06, warm_start=True)"
      ]
     },
     "execution_count": 68,
     "metadata": {},
     "output_type": "execute_result"
    },
    {
     "data": {
      "text/plain": [
       "LogisticRegression(C=0.49834023348625567, intercept_scaling=10000.0,\n",
       "                   max_iter=1000000, penalty='l1', random_state=42,\n",
       "                   solver='liblinear', tol=1e-06, warm_start=True)"
      ]
     },
     "execution_count": 68,
     "metadata": {},
     "output_type": "execute_result"
    },
    {
     "data": {
      "text/plain": [
       "LogisticRegression(C=0.5083734288165305, intercept_scaling=10000.0,\n",
       "                   max_iter=1000000, penalty='l1', random_state=42,\n",
       "                   solver='liblinear', tol=1e-06, warm_start=True)"
      ]
     },
     "execution_count": 68,
     "metadata": {},
     "output_type": "execute_result"
    },
    {
     "data": {
      "text/plain": [
       "LogisticRegression(C=0.5083734288165305, intercept_scaling=10000.0,\n",
       "                   max_iter=1000000, penalty='l1', random_state=42,\n",
       "                   solver='liblinear', tol=1e-06, warm_start=True)"
      ]
     },
     "execution_count": 68,
     "metadata": {},
     "output_type": "execute_result"
    },
    {
     "data": {
      "text/plain": [
       "LogisticRegression(C=0.5184066241468054, intercept_scaling=10000.0,\n",
       "                   max_iter=1000000, penalty='l1', random_state=42,\n",
       "                   solver='liblinear', tol=1e-06, warm_start=True)"
      ]
     },
     "execution_count": 68,
     "metadata": {},
     "output_type": "execute_result"
    },
    {
     "data": {
      "text/plain": [
       "LogisticRegression(C=0.5184066241468054, intercept_scaling=10000.0,\n",
       "                   max_iter=1000000, penalty='l1', random_state=42,\n",
       "                   solver='liblinear', tol=1e-06, warm_start=True)"
      ]
     },
     "execution_count": 68,
     "metadata": {},
     "output_type": "execute_result"
    },
    {
     "data": {
      "text/plain": [
       "LogisticRegression(C=0.5284398194770803, intercept_scaling=10000.0,\n",
       "                   max_iter=1000000, penalty='l1', random_state=42,\n",
       "                   solver='liblinear', tol=1e-06, warm_start=True)"
      ]
     },
     "execution_count": 68,
     "metadata": {},
     "output_type": "execute_result"
    },
    {
     "data": {
      "text/plain": [
       "LogisticRegression(C=0.5284398194770803, intercept_scaling=10000.0,\n",
       "                   max_iter=1000000, penalty='l1', random_state=42,\n",
       "                   solver='liblinear', tol=1e-06, warm_start=True)"
      ]
     },
     "execution_count": 68,
     "metadata": {},
     "output_type": "execute_result"
    },
    {
     "data": {
      "text/plain": [
       "LogisticRegression(C=0.5384730148073552, intercept_scaling=10000.0,\n",
       "                   max_iter=1000000, penalty='l1', random_state=42,\n",
       "                   solver='liblinear', tol=1e-06, warm_start=True)"
      ]
     },
     "execution_count": 68,
     "metadata": {},
     "output_type": "execute_result"
    },
    {
     "data": {
      "text/plain": [
       "LogisticRegression(C=0.5384730148073552, intercept_scaling=10000.0,\n",
       "                   max_iter=1000000, penalty='l1', random_state=42,\n",
       "                   solver='liblinear', tol=1e-06, warm_start=True)"
      ]
     },
     "execution_count": 68,
     "metadata": {},
     "output_type": "execute_result"
    },
    {
     "data": {
      "text/plain": [
       "LogisticRegression(C=0.54850621013763, intercept_scaling=10000.0,\n",
       "                   max_iter=1000000, penalty='l1', random_state=42,\n",
       "                   solver='liblinear', tol=1e-06, warm_start=True)"
      ]
     },
     "execution_count": 68,
     "metadata": {},
     "output_type": "execute_result"
    },
    {
     "data": {
      "text/plain": [
       "LogisticRegression(C=0.54850621013763, intercept_scaling=10000.0,\n",
       "                   max_iter=1000000, penalty='l1', random_state=42,\n",
       "                   solver='liblinear', tol=1e-06, warm_start=True)"
      ]
     },
     "execution_count": 68,
     "metadata": {},
     "output_type": "execute_result"
    },
    {
     "data": {
      "text/plain": [
       "LogisticRegression(C=0.5585394054679049, intercept_scaling=10000.0,\n",
       "                   max_iter=1000000, penalty='l1', random_state=42,\n",
       "                   solver='liblinear', tol=1e-06, warm_start=True)"
      ]
     },
     "execution_count": 68,
     "metadata": {},
     "output_type": "execute_result"
    },
    {
     "data": {
      "text/plain": [
       "LogisticRegression(C=0.5585394054679049, intercept_scaling=10000.0,\n",
       "                   max_iter=1000000, penalty='l1', random_state=42,\n",
       "                   solver='liblinear', tol=1e-06, warm_start=True)"
      ]
     },
     "execution_count": 68,
     "metadata": {},
     "output_type": "execute_result"
    },
    {
     "data": {
      "text/plain": [
       "LogisticRegression(C=0.5685726007981798, intercept_scaling=10000.0,\n",
       "                   max_iter=1000000, penalty='l1', random_state=42,\n",
       "                   solver='liblinear', tol=1e-06, warm_start=True)"
      ]
     },
     "execution_count": 68,
     "metadata": {},
     "output_type": "execute_result"
    },
    {
     "data": {
      "text/plain": [
       "LogisticRegression(C=0.5685726007981798, intercept_scaling=10000.0,\n",
       "                   max_iter=1000000, penalty='l1', random_state=42,\n",
       "                   solver='liblinear', tol=1e-06, warm_start=True)"
      ]
     },
     "execution_count": 68,
     "metadata": {},
     "output_type": "execute_result"
    },
    {
     "data": {
      "text/plain": [
       "LogisticRegression(C=0.5786057961284548, intercept_scaling=10000.0,\n",
       "                   max_iter=1000000, penalty='l1', random_state=42,\n",
       "                   solver='liblinear', tol=1e-06, warm_start=True)"
      ]
     },
     "execution_count": 68,
     "metadata": {},
     "output_type": "execute_result"
    },
    {
     "data": {
      "text/plain": [
       "LogisticRegression(C=0.5786057961284548, intercept_scaling=10000.0,\n",
       "                   max_iter=1000000, penalty='l1', random_state=42,\n",
       "                   solver='liblinear', tol=1e-06, warm_start=True)"
      ]
     },
     "execution_count": 68,
     "metadata": {},
     "output_type": "execute_result"
    },
    {
     "data": {
      "text/plain": [
       "LogisticRegression(C=0.5886389914587296, intercept_scaling=10000.0,\n",
       "                   max_iter=1000000, penalty='l1', random_state=42,\n",
       "                   solver='liblinear', tol=1e-06, warm_start=True)"
      ]
     },
     "execution_count": 68,
     "metadata": {},
     "output_type": "execute_result"
    },
    {
     "data": {
      "text/plain": [
       "LogisticRegression(C=0.5886389914587296, intercept_scaling=10000.0,\n",
       "                   max_iter=1000000, penalty='l1', random_state=42,\n",
       "                   solver='liblinear', tol=1e-06, warm_start=True)"
      ]
     },
     "execution_count": 68,
     "metadata": {},
     "output_type": "execute_result"
    },
    {
     "data": {
      "text/plain": [
       "LogisticRegression(C=0.5986721867890045, intercept_scaling=10000.0,\n",
       "                   max_iter=1000000, penalty='l1', random_state=42,\n",
       "                   solver='liblinear', tol=1e-06, warm_start=True)"
      ]
     },
     "execution_count": 68,
     "metadata": {},
     "output_type": "execute_result"
    },
    {
     "data": {
      "text/plain": [
       "LogisticRegression(C=0.5986721867890045, intercept_scaling=10000.0,\n",
       "                   max_iter=1000000, penalty='l1', random_state=42,\n",
       "                   solver='liblinear', tol=1e-06, warm_start=True)"
      ]
     },
     "execution_count": 68,
     "metadata": {},
     "output_type": "execute_result"
    },
    {
     "data": {
      "text/plain": [
       "LogisticRegression(C=0.6087053821192794, intercept_scaling=10000.0,\n",
       "                   max_iter=1000000, penalty='l1', random_state=42,\n",
       "                   solver='liblinear', tol=1e-06, warm_start=True)"
      ]
     },
     "execution_count": 68,
     "metadata": {},
     "output_type": "execute_result"
    },
    {
     "data": {
      "text/plain": [
       "LogisticRegression(C=0.6087053821192794, intercept_scaling=10000.0,\n",
       "                   max_iter=1000000, penalty='l1', random_state=42,\n",
       "                   solver='liblinear', tol=1e-06, warm_start=True)"
      ]
     },
     "execution_count": 68,
     "metadata": {},
     "output_type": "execute_result"
    },
    {
     "data": {
      "text/plain": [
       "LogisticRegression(C=0.6187385774495543, intercept_scaling=10000.0,\n",
       "                   max_iter=1000000, penalty='l1', random_state=42,\n",
       "                   solver='liblinear', tol=1e-06, warm_start=True)"
      ]
     },
     "execution_count": 68,
     "metadata": {},
     "output_type": "execute_result"
    },
    {
     "data": {
      "text/plain": [
       "LogisticRegression(C=0.6187385774495543, intercept_scaling=10000.0,\n",
       "                   max_iter=1000000, penalty='l1', random_state=42,\n",
       "                   solver='liblinear', tol=1e-06, warm_start=True)"
      ]
     },
     "execution_count": 68,
     "metadata": {},
     "output_type": "execute_result"
    },
    {
     "data": {
      "text/plain": [
       "LogisticRegression(C=0.6287717727798291, intercept_scaling=10000.0,\n",
       "                   max_iter=1000000, penalty='l1', random_state=42,\n",
       "                   solver='liblinear', tol=1e-06, warm_start=True)"
      ]
     },
     "execution_count": 68,
     "metadata": {},
     "output_type": "execute_result"
    },
    {
     "data": {
      "text/plain": [
       "LogisticRegression(C=0.6287717727798291, intercept_scaling=10000.0,\n",
       "                   max_iter=1000000, penalty='l1', random_state=42,\n",
       "                   solver='liblinear', tol=1e-06, warm_start=True)"
      ]
     },
     "execution_count": 68,
     "metadata": {},
     "output_type": "execute_result"
    },
    {
     "data": {
      "text/plain": [
       "LogisticRegression(C=0.638804968110104, intercept_scaling=10000.0,\n",
       "                   max_iter=1000000, penalty='l1', random_state=42,\n",
       "                   solver='liblinear', tol=1e-06, warm_start=True)"
      ]
     },
     "execution_count": 68,
     "metadata": {},
     "output_type": "execute_result"
    },
    {
     "data": {
      "text/plain": [
       "LogisticRegression(C=0.638804968110104, intercept_scaling=10000.0,\n",
       "                   max_iter=1000000, penalty='l1', random_state=42,\n",
       "                   solver='liblinear', tol=1e-06, warm_start=True)"
      ]
     },
     "execution_count": 68,
     "metadata": {},
     "output_type": "execute_result"
    },
    {
     "data": {
      "text/plain": [
       "LogisticRegression(C=0.6488381634403789, intercept_scaling=10000.0,\n",
       "                   max_iter=1000000, penalty='l1', random_state=42,\n",
       "                   solver='liblinear', tol=1e-06, warm_start=True)"
      ]
     },
     "execution_count": 68,
     "metadata": {},
     "output_type": "execute_result"
    },
    {
     "data": {
      "text/plain": [
       "LogisticRegression(C=0.6488381634403789, intercept_scaling=10000.0,\n",
       "                   max_iter=1000000, penalty='l1', random_state=42,\n",
       "                   solver='liblinear', tol=1e-06, warm_start=True)"
      ]
     },
     "execution_count": 68,
     "metadata": {},
     "output_type": "execute_result"
    },
    {
     "data": {
      "text/plain": [
       "LogisticRegression(C=0.6588713587706538, intercept_scaling=10000.0,\n",
       "                   max_iter=1000000, penalty='l1', random_state=42,\n",
       "                   solver='liblinear', tol=1e-06, warm_start=True)"
      ]
     },
     "execution_count": 68,
     "metadata": {},
     "output_type": "execute_result"
    },
    {
     "data": {
      "text/plain": [
       "LogisticRegression(C=0.6588713587706538, intercept_scaling=10000.0,\n",
       "                   max_iter=1000000, penalty='l1', random_state=42,\n",
       "                   solver='liblinear', tol=1e-06, warm_start=True)"
      ]
     },
     "execution_count": 68,
     "metadata": {},
     "output_type": "execute_result"
    },
    {
     "data": {
      "text/plain": [
       "LogisticRegression(C=0.6689045541009287, intercept_scaling=10000.0,\n",
       "                   max_iter=1000000, penalty='l1', random_state=42,\n",
       "                   solver='liblinear', tol=1e-06, warm_start=True)"
      ]
     },
     "execution_count": 68,
     "metadata": {},
     "output_type": "execute_result"
    },
    {
     "data": {
      "text/plain": [
       "LogisticRegression(C=0.6689045541009287, intercept_scaling=10000.0,\n",
       "                   max_iter=1000000, penalty='l1', random_state=42,\n",
       "                   solver='liblinear', tol=1e-06, warm_start=True)"
      ]
     },
     "execution_count": 68,
     "metadata": {},
     "output_type": "execute_result"
    },
    {
     "data": {
      "text/plain": [
       "LogisticRegression(C=0.6789377494312036, intercept_scaling=10000.0,\n",
       "                   max_iter=1000000, penalty='l1', random_state=42,\n",
       "                   solver='liblinear', tol=1e-06, warm_start=True)"
      ]
     },
     "execution_count": 68,
     "metadata": {},
     "output_type": "execute_result"
    },
    {
     "data": {
      "text/plain": [
       "LogisticRegression(C=0.6789377494312036, intercept_scaling=10000.0,\n",
       "                   max_iter=1000000, penalty='l1', random_state=42,\n",
       "                   solver='liblinear', tol=1e-06, warm_start=True)"
      ]
     },
     "execution_count": 68,
     "metadata": {},
     "output_type": "execute_result"
    },
    {
     "data": {
      "text/plain": [
       "LogisticRegression(C=0.6889709447614785, intercept_scaling=10000.0,\n",
       "                   max_iter=1000000, penalty='l1', random_state=42,\n",
       "                   solver='liblinear', tol=1e-06, warm_start=True)"
      ]
     },
     "execution_count": 68,
     "metadata": {},
     "output_type": "execute_result"
    },
    {
     "data": {
      "text/plain": [
       "LogisticRegression(C=0.6889709447614785, intercept_scaling=10000.0,\n",
       "                   max_iter=1000000, penalty='l1', random_state=42,\n",
       "                   solver='liblinear', tol=1e-06, warm_start=True)"
      ]
     },
     "execution_count": 68,
     "metadata": {},
     "output_type": "execute_result"
    },
    {
     "data": {
      "text/plain": [
       "LogisticRegression(C=0.6990041400917534, intercept_scaling=10000.0,\n",
       "                   max_iter=1000000, penalty='l1', random_state=42,\n",
       "                   solver='liblinear', tol=1e-06, warm_start=True)"
      ]
     },
     "execution_count": 68,
     "metadata": {},
     "output_type": "execute_result"
    },
    {
     "data": {
      "text/plain": [
       "LogisticRegression(C=0.6990041400917534, intercept_scaling=10000.0,\n",
       "                   max_iter=1000000, penalty='l1', random_state=42,\n",
       "                   solver='liblinear', tol=1e-06, warm_start=True)"
      ]
     },
     "execution_count": 68,
     "metadata": {},
     "output_type": "execute_result"
    },
    {
     "data": {
      "text/plain": [
       "LogisticRegression(C=0.7090373354220283, intercept_scaling=10000.0,\n",
       "                   max_iter=1000000, penalty='l1', random_state=42,\n",
       "                   solver='liblinear', tol=1e-06, warm_start=True)"
      ]
     },
     "execution_count": 68,
     "metadata": {},
     "output_type": "execute_result"
    },
    {
     "data": {
      "text/plain": [
       "LogisticRegression(C=0.7090373354220283, intercept_scaling=10000.0,\n",
       "                   max_iter=1000000, penalty='l1', random_state=42,\n",
       "                   solver='liblinear', tol=1e-06, warm_start=True)"
      ]
     },
     "execution_count": 68,
     "metadata": {},
     "output_type": "execute_result"
    },
    {
     "data": {
      "text/plain": [
       "LogisticRegression(C=0.7190705307523031, intercept_scaling=10000.0,\n",
       "                   max_iter=1000000, penalty='l1', random_state=42,\n",
       "                   solver='liblinear', tol=1e-06, warm_start=True)"
      ]
     },
     "execution_count": 68,
     "metadata": {},
     "output_type": "execute_result"
    },
    {
     "data": {
      "text/plain": [
       "LogisticRegression(C=0.7190705307523031, intercept_scaling=10000.0,\n",
       "                   max_iter=1000000, penalty='l1', random_state=42,\n",
       "                   solver='liblinear', tol=1e-06, warm_start=True)"
      ]
     },
     "execution_count": 68,
     "metadata": {},
     "output_type": "execute_result"
    },
    {
     "data": {
      "text/plain": [
       "LogisticRegression(C=0.729103726082578, intercept_scaling=10000.0,\n",
       "                   max_iter=1000000, penalty='l1', random_state=42,\n",
       "                   solver='liblinear', tol=1e-06, warm_start=True)"
      ]
     },
     "execution_count": 68,
     "metadata": {},
     "output_type": "execute_result"
    },
    {
     "data": {
      "text/plain": [
       "LogisticRegression(C=0.729103726082578, intercept_scaling=10000.0,\n",
       "                   max_iter=1000000, penalty='l1', random_state=42,\n",
       "                   solver='liblinear', tol=1e-06, warm_start=True)"
      ]
     },
     "execution_count": 68,
     "metadata": {},
     "output_type": "execute_result"
    },
    {
     "data": {
      "text/plain": [
       "LogisticRegression(C=0.7391369214128529, intercept_scaling=10000.0,\n",
       "                   max_iter=1000000, penalty='l1', random_state=42,\n",
       "                   solver='liblinear', tol=1e-06, warm_start=True)"
      ]
     },
     "execution_count": 68,
     "metadata": {},
     "output_type": "execute_result"
    },
    {
     "data": {
      "text/plain": [
       "LogisticRegression(C=0.7391369214128529, intercept_scaling=10000.0,\n",
       "                   max_iter=1000000, penalty='l1', random_state=42,\n",
       "                   solver='liblinear', tol=1e-06, warm_start=True)"
      ]
     },
     "execution_count": 68,
     "metadata": {},
     "output_type": "execute_result"
    },
    {
     "data": {
      "text/plain": [
       "LogisticRegression(C=0.7491701167431278, intercept_scaling=10000.0,\n",
       "                   max_iter=1000000, penalty='l1', random_state=42,\n",
       "                   solver='liblinear', tol=1e-06, warm_start=True)"
      ]
     },
     "execution_count": 68,
     "metadata": {},
     "output_type": "execute_result"
    },
    {
     "data": {
      "text/plain": [
       "LogisticRegression(C=0.7491701167431278, intercept_scaling=10000.0,\n",
       "                   max_iter=1000000, penalty='l1', random_state=42,\n",
       "                   solver='liblinear', tol=1e-06, warm_start=True)"
      ]
     },
     "execution_count": 68,
     "metadata": {},
     "output_type": "execute_result"
    },
    {
     "data": {
      "text/plain": [
       "LogisticRegression(C=0.7592033120734026, intercept_scaling=10000.0,\n",
       "                   max_iter=1000000, penalty='l1', random_state=42,\n",
       "                   solver='liblinear', tol=1e-06, warm_start=True)"
      ]
     },
     "execution_count": 68,
     "metadata": {},
     "output_type": "execute_result"
    },
    {
     "data": {
      "text/plain": [
       "LogisticRegression(C=0.7592033120734026, intercept_scaling=10000.0,\n",
       "                   max_iter=1000000, penalty='l1', random_state=42,\n",
       "                   solver='liblinear', tol=1e-06, warm_start=True)"
      ]
     },
     "execution_count": 68,
     "metadata": {},
     "output_type": "execute_result"
    },
    {
     "data": {
      "text/plain": [
       "LogisticRegression(C=0.7692365074036775, intercept_scaling=10000.0,\n",
       "                   max_iter=1000000, penalty='l1', random_state=42,\n",
       "                   solver='liblinear', tol=1e-06, warm_start=True)"
      ]
     },
     "execution_count": 68,
     "metadata": {},
     "output_type": "execute_result"
    },
    {
     "data": {
      "text/plain": [
       "LogisticRegression(C=0.7692365074036775, intercept_scaling=10000.0,\n",
       "                   max_iter=1000000, penalty='l1', random_state=42,\n",
       "                   solver='liblinear', tol=1e-06, warm_start=True)"
      ]
     },
     "execution_count": 68,
     "metadata": {},
     "output_type": "execute_result"
    },
    {
     "data": {
      "text/plain": [
       "LogisticRegression(C=0.7792697027339525, intercept_scaling=10000.0,\n",
       "                   max_iter=1000000, penalty='l1', random_state=42,\n",
       "                   solver='liblinear', tol=1e-06, warm_start=True)"
      ]
     },
     "execution_count": 68,
     "metadata": {},
     "output_type": "execute_result"
    },
    {
     "data": {
      "text/plain": [
       "LogisticRegression(C=0.7792697027339525, intercept_scaling=10000.0,\n",
       "                   max_iter=1000000, penalty='l1', random_state=42,\n",
       "                   solver='liblinear', tol=1e-06, warm_start=True)"
      ]
     },
     "execution_count": 68,
     "metadata": {},
     "output_type": "execute_result"
    },
    {
     "data": {
      "text/plain": [
       "LogisticRegression(C=0.7893028980642274, intercept_scaling=10000.0,\n",
       "                   max_iter=1000000, penalty='l1', random_state=42,\n",
       "                   solver='liblinear', tol=1e-06, warm_start=True)"
      ]
     },
     "execution_count": 68,
     "metadata": {},
     "output_type": "execute_result"
    },
    {
     "data": {
      "text/plain": [
       "LogisticRegression(C=0.7893028980642274, intercept_scaling=10000.0,\n",
       "                   max_iter=1000000, penalty='l1', random_state=42,\n",
       "                   solver='liblinear', tol=1e-06, warm_start=True)"
      ]
     },
     "execution_count": 68,
     "metadata": {},
     "output_type": "execute_result"
    },
    {
     "data": {
      "text/plain": [
       "LogisticRegression(C=0.7993360933945022, intercept_scaling=10000.0,\n",
       "                   max_iter=1000000, penalty='l1', random_state=42,\n",
       "                   solver='liblinear', tol=1e-06, warm_start=True)"
      ]
     },
     "execution_count": 68,
     "metadata": {},
     "output_type": "execute_result"
    },
    {
     "data": {
      "text/plain": [
       "LogisticRegression(C=0.7993360933945022, intercept_scaling=10000.0,\n",
       "                   max_iter=1000000, penalty='l1', random_state=42,\n",
       "                   solver='liblinear', tol=1e-06, warm_start=True)"
      ]
     },
     "execution_count": 68,
     "metadata": {},
     "output_type": "execute_result"
    },
    {
     "data": {
      "text/plain": [
       "LogisticRegression(C=0.8093692887247771, intercept_scaling=10000.0,\n",
       "                   max_iter=1000000, penalty='l1', random_state=42,\n",
       "                   solver='liblinear', tol=1e-06, warm_start=True)"
      ]
     },
     "execution_count": 68,
     "metadata": {},
     "output_type": "execute_result"
    },
    {
     "data": {
      "text/plain": [
       "LogisticRegression(C=0.8093692887247771, intercept_scaling=10000.0,\n",
       "                   max_iter=1000000, penalty='l1', random_state=42,\n",
       "                   solver='liblinear', tol=1e-06, warm_start=True)"
      ]
     },
     "execution_count": 68,
     "metadata": {},
     "output_type": "execute_result"
    },
    {
     "data": {
      "text/plain": [
       "LogisticRegression(C=0.819402484055052, intercept_scaling=10000.0,\n",
       "                   max_iter=1000000, penalty='l1', random_state=42,\n",
       "                   solver='liblinear', tol=1e-06, warm_start=True)"
      ]
     },
     "execution_count": 68,
     "metadata": {},
     "output_type": "execute_result"
    },
    {
     "data": {
      "text/plain": [
       "LogisticRegression(C=0.819402484055052, intercept_scaling=10000.0,\n",
       "                   max_iter=1000000, penalty='l1', random_state=42,\n",
       "                   solver='liblinear', tol=1e-06, warm_start=True)"
      ]
     },
     "execution_count": 68,
     "metadata": {},
     "output_type": "execute_result"
    },
    {
     "data": {
      "text/plain": [
       "LogisticRegression(C=0.8294356793853269, intercept_scaling=10000.0,\n",
       "                   max_iter=1000000, penalty='l1', random_state=42,\n",
       "                   solver='liblinear', tol=1e-06, warm_start=True)"
      ]
     },
     "execution_count": 68,
     "metadata": {},
     "output_type": "execute_result"
    },
    {
     "data": {
      "text/plain": [
       "LogisticRegression(C=0.8294356793853269, intercept_scaling=10000.0,\n",
       "                   max_iter=1000000, penalty='l1', random_state=42,\n",
       "                   solver='liblinear', tol=1e-06, warm_start=True)"
      ]
     },
     "execution_count": 68,
     "metadata": {},
     "output_type": "execute_result"
    },
    {
     "data": {
      "text/plain": [
       "LogisticRegression(C=0.8394688747156018, intercept_scaling=10000.0,\n",
       "                   max_iter=1000000, penalty='l1', random_state=42,\n",
       "                   solver='liblinear', tol=1e-06, warm_start=True)"
      ]
     },
     "execution_count": 68,
     "metadata": {},
     "output_type": "execute_result"
    },
    {
     "data": {
      "text/plain": [
       "LogisticRegression(C=0.8394688747156018, intercept_scaling=10000.0,\n",
       "                   max_iter=1000000, penalty='l1', random_state=42,\n",
       "                   solver='liblinear', tol=1e-06, warm_start=True)"
      ]
     },
     "execution_count": 68,
     "metadata": {},
     "output_type": "execute_result"
    },
    {
     "data": {
      "text/plain": [
       "LogisticRegression(C=0.8495020700458766, intercept_scaling=10000.0,\n",
       "                   max_iter=1000000, penalty='l1', random_state=42,\n",
       "                   solver='liblinear', tol=1e-06, warm_start=True)"
      ]
     },
     "execution_count": 68,
     "metadata": {},
     "output_type": "execute_result"
    },
    {
     "data": {
      "text/plain": [
       "LogisticRegression(C=0.8495020700458766, intercept_scaling=10000.0,\n",
       "                   max_iter=1000000, penalty='l1', random_state=42,\n",
       "                   solver='liblinear', tol=1e-06, warm_start=True)"
      ]
     },
     "execution_count": 68,
     "metadata": {},
     "output_type": "execute_result"
    },
    {
     "data": {
      "text/plain": [
       "LogisticRegression(C=0.8595352653761515, intercept_scaling=10000.0,\n",
       "                   max_iter=1000000, penalty='l1', random_state=42,\n",
       "                   solver='liblinear', tol=1e-06, warm_start=True)"
      ]
     },
     "execution_count": 68,
     "metadata": {},
     "output_type": "execute_result"
    },
    {
     "data": {
      "text/plain": [
       "LogisticRegression(C=0.8595352653761515, intercept_scaling=10000.0,\n",
       "                   max_iter=1000000, penalty='l1', random_state=42,\n",
       "                   solver='liblinear', tol=1e-06, warm_start=True)"
      ]
     },
     "execution_count": 68,
     "metadata": {},
     "output_type": "execute_result"
    },
    {
     "data": {
      "text/plain": [
       "LogisticRegression(C=0.8695684607064265, intercept_scaling=10000.0,\n",
       "                   max_iter=1000000, penalty='l1', random_state=42,\n",
       "                   solver='liblinear', tol=1e-06, warm_start=True)"
      ]
     },
     "execution_count": 68,
     "metadata": {},
     "output_type": "execute_result"
    },
    {
     "data": {
      "text/plain": [
       "LogisticRegression(C=0.8695684607064265, intercept_scaling=10000.0,\n",
       "                   max_iter=1000000, penalty='l1', random_state=42,\n",
       "                   solver='liblinear', tol=1e-06, warm_start=True)"
      ]
     },
     "execution_count": 68,
     "metadata": {},
     "output_type": "execute_result"
    },
    {
     "data": {
      "text/plain": [
       "LogisticRegression(C=0.8796016560367014, intercept_scaling=10000.0,\n",
       "                   max_iter=1000000, penalty='l1', random_state=42,\n",
       "                   solver='liblinear', tol=1e-06, warm_start=True)"
      ]
     },
     "execution_count": 68,
     "metadata": {},
     "output_type": "execute_result"
    },
    {
     "data": {
      "text/plain": [
       "LogisticRegression(C=0.8796016560367014, intercept_scaling=10000.0,\n",
       "                   max_iter=1000000, penalty='l1', random_state=42,\n",
       "                   solver='liblinear', tol=1e-06, warm_start=True)"
      ]
     },
     "execution_count": 68,
     "metadata": {},
     "output_type": "execute_result"
    },
    {
     "data": {
      "text/plain": [
       "LogisticRegression(C=0.8896348513669762, intercept_scaling=10000.0,\n",
       "                   max_iter=1000000, penalty='l1', random_state=42,\n",
       "                   solver='liblinear', tol=1e-06, warm_start=True)"
      ]
     },
     "execution_count": 68,
     "metadata": {},
     "output_type": "execute_result"
    },
    {
     "data": {
      "text/plain": [
       "LogisticRegression(C=0.8896348513669762, intercept_scaling=10000.0,\n",
       "                   max_iter=1000000, penalty='l1', random_state=42,\n",
       "                   solver='liblinear', tol=1e-06, warm_start=True)"
      ]
     },
     "execution_count": 68,
     "metadata": {},
     "output_type": "execute_result"
    },
    {
     "data": {
      "text/plain": [
       "LogisticRegression(C=0.8996680466972511, intercept_scaling=10000.0,\n",
       "                   max_iter=1000000, penalty='l1', random_state=42,\n",
       "                   solver='liblinear', tol=1e-06, warm_start=True)"
      ]
     },
     "execution_count": 68,
     "metadata": {},
     "output_type": "execute_result"
    },
    {
     "data": {
      "text/plain": [
       "LogisticRegression(C=0.8996680466972511, intercept_scaling=10000.0,\n",
       "                   max_iter=1000000, penalty='l1', random_state=42,\n",
       "                   solver='liblinear', tol=1e-06, warm_start=True)"
      ]
     },
     "execution_count": 68,
     "metadata": {},
     "output_type": "execute_result"
    },
    {
     "data": {
      "text/plain": [
       "LogisticRegression(C=0.909701242027526, intercept_scaling=10000.0,\n",
       "                   max_iter=1000000, penalty='l1', random_state=42,\n",
       "                   solver='liblinear', tol=1e-06, warm_start=True)"
      ]
     },
     "execution_count": 68,
     "metadata": {},
     "output_type": "execute_result"
    },
    {
     "data": {
      "text/plain": [
       "LogisticRegression(C=0.909701242027526, intercept_scaling=10000.0,\n",
       "                   max_iter=1000000, penalty='l1', random_state=42,\n",
       "                   solver='liblinear', tol=1e-06, warm_start=True)"
      ]
     },
     "execution_count": 68,
     "metadata": {},
     "output_type": "execute_result"
    },
    {
     "data": {
      "text/plain": [
       "LogisticRegression(C=0.9197344373578009, intercept_scaling=10000.0,\n",
       "                   max_iter=1000000, penalty='l1', random_state=42,\n",
       "                   solver='liblinear', tol=1e-06, warm_start=True)"
      ]
     },
     "execution_count": 68,
     "metadata": {},
     "output_type": "execute_result"
    },
    {
     "data": {
      "text/plain": [
       "LogisticRegression(C=0.9197344373578009, intercept_scaling=10000.0,\n",
       "                   max_iter=1000000, penalty='l1', random_state=42,\n",
       "                   solver='liblinear', tol=1e-06, warm_start=True)"
      ]
     },
     "execution_count": 68,
     "metadata": {},
     "output_type": "execute_result"
    },
    {
     "data": {
      "text/plain": [
       "LogisticRegression(C=0.9297676326880757, intercept_scaling=10000.0,\n",
       "                   max_iter=1000000, penalty='l1', random_state=42,\n",
       "                   solver='liblinear', tol=1e-06, warm_start=True)"
      ]
     },
     "execution_count": 68,
     "metadata": {},
     "output_type": "execute_result"
    },
    {
     "data": {
      "text/plain": [
       "LogisticRegression(C=0.9297676326880757, intercept_scaling=10000.0,\n",
       "                   max_iter=1000000, penalty='l1', random_state=42,\n",
       "                   solver='liblinear', tol=1e-06, warm_start=True)"
      ]
     },
     "execution_count": 68,
     "metadata": {},
     "output_type": "execute_result"
    },
    {
     "data": {
      "text/plain": [
       "LogisticRegression(C=0.9398008280183506, intercept_scaling=10000.0,\n",
       "                   max_iter=1000000, penalty='l1', random_state=42,\n",
       "                   solver='liblinear', tol=1e-06, warm_start=True)"
      ]
     },
     "execution_count": 68,
     "metadata": {},
     "output_type": "execute_result"
    },
    {
     "data": {
      "text/plain": [
       "LogisticRegression(C=0.9398008280183506, intercept_scaling=10000.0,\n",
       "                   max_iter=1000000, penalty='l1', random_state=42,\n",
       "                   solver='liblinear', tol=1e-06, warm_start=True)"
      ]
     },
     "execution_count": 68,
     "metadata": {},
     "output_type": "execute_result"
    },
    {
     "data": {
      "text/plain": [
       "LogisticRegression(C=0.9498340233486255, intercept_scaling=10000.0,\n",
       "                   max_iter=1000000, penalty='l1', random_state=42,\n",
       "                   solver='liblinear', tol=1e-06, warm_start=True)"
      ]
     },
     "execution_count": 68,
     "metadata": {},
     "output_type": "execute_result"
    },
    {
     "data": {
      "text/plain": [
       "LogisticRegression(C=0.9498340233486255, intercept_scaling=10000.0,\n",
       "                   max_iter=1000000, penalty='l1', random_state=42,\n",
       "                   solver='liblinear', tol=1e-06, warm_start=True)"
      ]
     },
     "execution_count": 68,
     "metadata": {},
     "output_type": "execute_result"
    },
    {
     "data": {
      "text/plain": [
       "LogisticRegression(C=0.9598672186789005, intercept_scaling=10000.0,\n",
       "                   max_iter=1000000, penalty='l1', random_state=42,\n",
       "                   solver='liblinear', tol=1e-06, warm_start=True)"
      ]
     },
     "execution_count": 68,
     "metadata": {},
     "output_type": "execute_result"
    },
    {
     "data": {
      "text/plain": [
       "LogisticRegression(C=0.9598672186789005, intercept_scaling=10000.0,\n",
       "                   max_iter=1000000, penalty='l1', random_state=42,\n",
       "                   solver='liblinear', tol=1e-06, warm_start=True)"
      ]
     },
     "execution_count": 68,
     "metadata": {},
     "output_type": "execute_result"
    },
    {
     "data": {
      "text/plain": [
       "LogisticRegression(C=0.9699004140091754, intercept_scaling=10000.0,\n",
       "                   max_iter=1000000, penalty='l1', random_state=42,\n",
       "                   solver='liblinear', tol=1e-06, warm_start=True)"
      ]
     },
     "execution_count": 68,
     "metadata": {},
     "output_type": "execute_result"
    },
    {
     "data": {
      "text/plain": [
       "LogisticRegression(C=0.9699004140091754, intercept_scaling=10000.0,\n",
       "                   max_iter=1000000, penalty='l1', random_state=42,\n",
       "                   solver='liblinear', tol=1e-06, warm_start=True)"
      ]
     },
     "execution_count": 68,
     "metadata": {},
     "output_type": "execute_result"
    },
    {
     "data": {
      "text/plain": [
       "LogisticRegression(C=0.9799336093394502, intercept_scaling=10000.0,\n",
       "                   max_iter=1000000, penalty='l1', random_state=42,\n",
       "                   solver='liblinear', tol=1e-06, warm_start=True)"
      ]
     },
     "execution_count": 68,
     "metadata": {},
     "output_type": "execute_result"
    },
    {
     "data": {
      "text/plain": [
       "LogisticRegression(C=0.9799336093394502, intercept_scaling=10000.0,\n",
       "                   max_iter=1000000, penalty='l1', random_state=42,\n",
       "                   solver='liblinear', tol=1e-06, warm_start=True)"
      ]
     },
     "execution_count": 68,
     "metadata": {},
     "output_type": "execute_result"
    },
    {
     "data": {
      "text/plain": [
       "LogisticRegression(C=0.9899668046697251, intercept_scaling=10000.0,\n",
       "                   max_iter=1000000, penalty='l1', random_state=42,\n",
       "                   solver='liblinear', tol=1e-06, warm_start=True)"
      ]
     },
     "execution_count": 68,
     "metadata": {},
     "output_type": "execute_result"
    },
    {
     "data": {
      "text/plain": [
       "LogisticRegression(C=0.9899668046697251, intercept_scaling=10000.0,\n",
       "                   max_iter=1000000, penalty='l1', random_state=42,\n",
       "                   solver='liblinear', tol=1e-06, warm_start=True)"
      ]
     },
     "execution_count": 68,
     "metadata": {},
     "output_type": "execute_result"
    },
    {
     "data": {
      "text/plain": [
       "LogisticRegression(intercept_scaling=10000.0, max_iter=1000000, penalty='l1',\n",
       "                   random_state=42, solver='liblinear', tol=1e-06,\n",
       "                   warm_start=True)"
      ]
     },
     "execution_count": 68,
     "metadata": {},
     "output_type": "execute_result"
    },
    {
     "data": {
      "text/plain": [
       "LogisticRegression(intercept_scaling=10000.0, max_iter=1000000, penalty='l1',\n",
       "                   random_state=42, solver='liblinear', tol=1e-06,\n",
       "                   warm_start=True)"
      ]
     },
     "execution_count": 68,
     "metadata": {},
     "output_type": "execute_result"
    },
    {
     "data": {
      "text/plain": [
       "<Figure size 720x720 with 0 Axes>"
      ]
     },
     "execution_count": 68,
     "metadata": {},
     "output_type": "execute_result"
    },
    {
     "data": {
      "text/plain": [
       "[<matplotlib.lines.Line2D at 0x125d6bca0>]"
      ]
     },
     "execution_count": 68,
     "metadata": {},
     "output_type": "execute_result"
    },
    {
     "data": {
      "text/plain": [
       "Text(0.5, 0, 'Inverse of regularization (C)')"
      ]
     },
     "execution_count": 68,
     "metadata": {},
     "output_type": "execute_result"
    },
    {
     "data": {
      "text/plain": [
       "Text(0, 0.5, 'Accuracy')"
      ]
     },
     "execution_count": 68,
     "metadata": {},
     "output_type": "execute_result"
    },
    {
     "data": {
      "text/plain": [
       "Text(0.5, 1.0, 'Accuracy as regularization decreases')"
      ]
     },
     "execution_count": 68,
     "metadata": {},
     "output_type": "execute_result"
    },
    {
     "data": {
      "image/png": "[encoded data removed]",
      "text/plain": [
       "<Figure size 720x720 with 1 Axes>"
      ]
     },
     "metadata": {
      "needs_background": "light"
     },
     "output_type": "display_data"
    }
   ],
   "source": [
    "model = LogisticRegression(penalty='l1', \n",
    "                           solver='liblinear',\n",
    "                           tol=1e-6, \n",
    "                           max_iter=int(1e6),\n",
    "                           warm_start=True,\n",
    "                           intercept_scaling=10000.,\n",
    "                           random_state=42)\n",
    "X_train, X_test, y_train, y_test = train_test_split(X, Y, test_size=0.2, random_state=42)\n",
    "\n",
    "cs = np.linspace(l1_min_c(X_train, y_train, loss='log'), 1, 100) # Get regularization values form the minimum possible up to 1\n",
    "\n",
    "accuracies = []\n",
    "for c in cs:\n",
    "    # Calculate accuracy\n",
    "    model.set_params(C=c)\n",
    "    model.fit(X_train, y_train)\n",
    "    y_pred=model.predict(X_test)\n",
    "    accuracies.append(accuracy_score(y_true=y_test, y_pred=y_pred))\n",
    "\n",
    "plt.figure(1, (10, 10))\n",
    "plt.plot(cs, accuracies)\n",
    "plt.xlabel(\"Inverse of regularization (C)\")\n",
    "plt.ylabel(\"Accuracy\")\n",
    "plt.title(\"Accuracy as regularization decreases\")"
   ]
  },
  {
   "cell_type": "markdown",
   "id": "victorian-tract",
   "metadata": {},
   "source": [
    "## Optimizing the model with CV and Hyperparameter Tuning"
   ]
  },
  {
   "cell_type": "markdown",
   "id": "equal-blackberry",
   "metadata": {},
   "source": [
    "However, we may ask oursleves, can we do better? Usually the default parameters are almost always wrong! How can we find the **best** parameters? Let's perform hyperparameter tuning on this model to get a better one!"
   ]
  },
  {
   "cell_type": "code",
   "execution_count": 69,
   "id": "utility-control",
   "metadata": {
    "scrolled": false
   },
   "outputs": [
    {
     "data": {
      "text/plain": [
       "GridSearchCV(cv=5, estimator=LogisticRegression(),\n",
       "             param_grid={'C': array([0.00532056, 0.10532056, 0.20532056, 0.30532056, 0.40532056,\n",
       "       0.50532056, 0.60532056, 0.70532056, 0.80532056, 0.90532056,\n",
       "       1.00532056, 1.10532056, 1.20532056, 1.30532056, 1.40532056,\n",
       "       1.50532056, 1.60532056, 1.70532056, 1.80532056, 1.90532056,\n",
       "       2.00532056, 2.10532056, 2.20532056, 2.30532056, 2.40532056,\n",
       "       2.50532056, 2.60532056, 2.70532056, 2.80532056, 2.90532056])},\n",
       "             refit='Accuracy', return_train_score=True,\n",
       "             scoring={'Accuracy': 'accuracy', 'Log_loss': 'neg_log_loss'})"
      ]
     },
     "execution_count": 69,
     "metadata": {},
     "output_type": "execute_result"
    },
    {
     "name": "stdout",
     "output_type": "stream",
     "text": [
      "====================\n",
      "best params: LogisticRegression(C=0.10532056397978186)\n",
      "best params: {'C': 0.10532056397978186}\n",
      "best score: 0.8333333333333334\n",
      "====================\n"
     ]
    },
    {
     "name": "stderr",
     "output_type": "stream",
     "text": [
      "<ipython-input-52-836230e16161>:124: MatplotlibDeprecationWarning: Adding an axes using the same arguments as a previous axes currently reuses the earlier instance.  In a future version, a new instance will always be created and returned.  Meanwhile, this warning can be suppressed, and the future behavior ensured, by passing a unique label to each axes instance.\n",
      "  ax = plt.axes()\n"
     ]
    },
    {
     "data": {
      "image/png": "[encoded data removed]",
      "text/plain": [
       "<Figure size 1440x1080 with 1 Axes>"
      ]
     },
     "metadata": {
      "needs_background": "light"
     },
     "output_type": "display_data"
    }
   ],
   "source": [
    "param_grid = {'C': np.arange(l1_min_c(X, Y, loss='log'), 3, 0.1)}   # We will try to tune the regularization parameter C.\n",
    "scoring = {'Accuracy': 'accuracy', 'Log_loss': 'neg_log_loss'}   # And report for plotting the accuracy and cost\n",
    "\n",
    "gs = GridSearchCV(LogisticRegression(),  # Use Logistic Regression\n",
    "                  return_train_score=True, \n",
    "                  param_grid=param_grid, scoring=scoring, \n",
    "                  cv=5, # Perform train test splits of 20%\n",
    "                  refit='Accuracy')  # Finally output a trained model with the best accuracy\n",
    "\n",
    "gs.fit(X, Y)\n",
    "results = gs.cv_results_\n",
    "\n",
    "print('='*20)\n",
    "print(\"best params: \" + str(gs.best_estimator_))\n",
    "print(\"best params: \" + str(gs.best_params_))\n",
    "print('best score:', gs.best_score_)\n",
    "print('='*20)\n",
    "\n",
    "plot_gridsearch_cv(param_grid=param_grid, results=results, scoring=scoring)"
   ]
  },
  {
   "cell_type": "code",
   "execution_count": 70,
   "id": "continent-country",
   "metadata": {
    "scrolled": false
   },
   "outputs": [],
   "source": [
    "# Exercise 3: Perform Cross Validation and Hyiperparameter Tuning to select the best l1_ratio, setting the solver as 'saga', penalty as 'elasticnet', warm_start as False and n_iter as 10000\n",
    "\n",
    "scoring = {'Accuracy': 'accuracy', 'Log_loss': 'neg_log_loss'}\n",
    "param_grid = None \n",
    "gs = None \n",
    "         \n",
    "# Solution E3:\n",
    "    \n",
    "# param_grid = {'l1_ratio': np.arange(l1_min_c(X, Y, loss='log'), 1, 0.1)}\n",
    "# gs = GridSearchCV(LogisticRegression(penalty='elasticnet', solver='saga', max_iter=10000, warm_start=False), return_train_score=True,\n",
    "#       param_grid=param_grid, scoring=scoring, cv=5, refit='Accuracy')\n",
    "# gs.fit(X, Y)\n",
    "\n",
    "if gs is not None:\n",
    "    results = gs.cv_results_\n",
    "    print('='*20)\n",
    "    print(\"best params: \" + str(gs.best_estimator_))\n",
    "    print(\"best params: \" + str(gs.best_params_))\n",
    "    print('best score:', gs.best_score_)\n",
    "    print('='*20)\n",
    "    plot_gridsearch_cv(param_grid=param_grid, results=results, scoring=scoring, adjustable_param=\"l1_ratio\")\n"
   ]
  },
  {
   "cell_type": "markdown",
   "id": "successful-helmet",
   "metadata": {
    "pycharm": {
     "name": "#%% md\n"
    },
    "scrolled": true
   },
   "source": [
    "## Questions to think about later:\n",
    "\n",
    "- All the examples we used in this notebook are **linearly separable**, how could we use Logistic Regression in non-linearly separable settings?\n",
    "\n",
    "- If we used a dataset with many more features, how could we test which ones are more useful for a Logistic Regression Model?\n",
    "\n",
    "- The fact that extreme outliers have extreme cost for any class, eventually affects the optimal classes since the optimization algorithm will try to minimse the overall cost. This creates a biased and less robust model since we are not at the optima. How do you think we can fix that in the Cross Entropy cost function?"
   ]
  },
  {
   "cell_type": "markdown",
   "id": "multiple-television",
   "metadata": {
    "pycharm": {
     "name": "#%% md\n"
    }
   },
   "source": [
    "## Key Takeaways and Tips\n",
    "\n",
    "- Logistic Regression is a classic classification model that predicts probabilities of classes given an input\n",
    "\n",
    "- It uses the Cross Entropy cost function to maximize correct labels\n",
    "\n",
    "- Tuning the regularization parameter is very beneficial to make our model more robust\n",
    "\n",
    "- GridSearchCV has a great interface to do so in a couple of lines\n"
   ]
  }
 ],
 "metadata": {
  "kernelspec": {
   "display_name": "Python 3",
   "language": "python",
   "name": "python3"
  },
  "language_info": {
   "codemirror_mode": {
    "name": "ipython",
    "version": 3
   },
   "file_extension": ".py",
   "mimetype": "text/x-python",
   "name": "python",
   "nbconvert_exporter": "python",
   "pygments_lexer": "ipython3",
   "version": "3.9.1"
  }
 },
 "nbformat": 4,
 "nbformat_minor": 5
}